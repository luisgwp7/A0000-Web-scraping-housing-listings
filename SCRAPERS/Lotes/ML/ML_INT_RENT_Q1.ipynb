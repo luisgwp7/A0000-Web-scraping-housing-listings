{
 "cells": [
  {
   "cell_type": "markdown",
   "metadata": {},
   "source": [
    "# Libraries and modules\n"
   ]
  },
  {
   "cell_type": "code",
   "execution_count": 1,
   "metadata": {},
   "outputs": [],
   "source": [
    "import pandas as pd \n",
    "from datetime import datetime\n",
    "from ML.internal import selectdfQ, regexdata as rd, internal\n",
    "from ML.tools import savedata as sd, deltempfiles as dtf, master_dir as md\n",
    "\n",
    "#Visual de data (permite ver todo un df)\n",
    "pd.set_option('display.max_rows', None)\n",
    "pd.set_option('display.max_columns', None)\n",
    "pd.set_option('display.max_colwidth', None)"
   ]
  },
  {
   "cell_type": "markdown",
   "metadata": {},
   "source": [
    "# __ENVIRONMENT__"
   ]
  },
  {
   "cell_type": "code",
   "execution_count": 2,
   "metadata": {},
   "outputs": [],
   "source": [
    "# Variables \n",
    "\n",
    "mth = 'ENE'       #Update each month\n",
    "yr = '2024'       #Update each month\n",
    "\n",
    "op = 'Rental'\n",
    "web = 'ML'\n",
    "\n",
    "#Master directory\n",
    "master_dir = md()\n",
    "master_dir = f'{master_dir}/{web}'\n",
    "\n",
    "\n",
    "#IMPORT\n",
    "#Directories to import files \n",
    "moni_dir_imp = f'{master_dir}/FRONTPAGE/MONITORING/{yr}/{mth}'\n",
    "\n",
    "#import files \n",
    "###############################################################################################################\n",
    "fl_master_imp = f'{web}_{mth}{yr}_{op}_Front.csv'\n",
    "\n",
    "inputfile = f'{moni_dir_imp}/{fl_master_imp}' \n",
    "\n",
    "\n",
    "\n",
    "#EXPORT\n",
    "#Directories to export files \n",
    "result_dir = f'{master_dir}/INTERNAL/JOIN'\n",
    "\n",
    "#Export files \n",
    "###############################################################################################################\n",
    "#This files is going to be joined for create the master file, which contains all the data for the fron page\n",
    "fl_pre = f'{web}_join_{op}INT_{mth}{yr}_'\n",
    "\n",
    "\n",
    "# Ruta al archivo .bat\n",
    "ruta_bat = r'C:/Users/luisG/GIT/SCRAPING/deltemporal_exect.bat'\n",
    "ruta_txt = r'C:Users/luisG/AppData/Local/Temp/eliminacion_log.txt'  #Is could change depending the computer"
   ]
  },
  {
   "cell_type": "markdown",
   "metadata": {},
   "source": [
    "# Read frontpage df "
   ]
  },
  {
   "cell_type": "code",
   "execution_count": 3,
   "metadata": {},
   "outputs": [
    {
     "data": {
      "text/plain": [
       "5984"
      ]
     },
     "execution_count": 3,
     "metadata": {},
     "output_type": "execute_result"
    }
   ],
   "source": [
    "df = pd.read_csv(f'{inputfile}', sep = ';', encoding = 'utf-16')\n",
    "len(df)"
   ]
  },
  {
   "cell_type": "markdown",
   "metadata": {},
   "source": [
    "## Choosing the df \n"
   ]
  },
  {
   "cell_type": "code",
   "execution_count": 4,
   "metadata": {},
   "outputs": [
    {
     "name": "stdout",
     "output_type": "stream",
     "text": [
      "5671\n",
      "Usted seleccionó dfQ1 con: 2835 obs\n"
     ]
    }
   ],
   "source": [
    "dfQ1, _ = selectdfQ(df, 1, 'arriendo') # 1 only select the first 25% of the data "
   ]
  },
  {
   "cell_type": "markdown",
   "metadata": {},
   "source": [
    "# Split data "
   ]
  },
  {
   "cell_type": "code",
   "execution_count": 5,
   "metadata": {},
   "outputs": [
    {
     "name": "stdout",
     "output_type": "stream",
     "text": [
      "Se crearon 6 DataFrames para df_inmobiliaria:\n"
     ]
    }
   ],
   "source": [
    "#Separación Q1\n",
    "#############################################################################################################\n",
    "# Calcula cuántos DataFrames de 5000 observaciones necesitarás\n",
    "num_dfs = len(dfQ1) // 500 + (1 if len(dfQ1) % 500 != 0 else 0)\n",
    "# Dividir df_inmobiliaria entre 5000 observaciones cada uno para hacer el scrapign sin problemas\n",
    "dfs = {f'{fl_pre}_Q1_{i}': dfQ1.iloc[i:i+500] for i in range(0, len(dfQ1), 500)}\n",
    "# Nombres de df_inmobiliaria\n",
    "print(f'Se crearon {num_dfs} DataFrames para df_inmobiliaria:')"
   ]
  },
  {
   "cell_type": "markdown",
   "metadata": {},
   "source": [
    "# __Scraping__"
   ]
  },
  {
   "cell_type": "code",
   "execution_count": 6,
   "metadata": {},
   "outputs": [
    {
     "name": "stdout",
     "output_type": "stream",
     "text": [
      "El proceso de scraping ha comenzado a las 06:58 del 15/01/2024\n",
      "Realizando scraping en ML_join_RentalINT_ENE2024__Q1_0...\n",
      "El proceso de scraping ha comenzado a las 06:58 del 15/01/2024\n",
      "Enlaces procesados: 50 de 500\n",
      "Enlaces procesados: 100 de 500\n",
      "Enlaces procesados: 150 de 500\n",
      "Enlaces procesados: 200 de 500\n",
      "Enlaces procesados: 250 de 500\n",
      "Enlaces procesados: 300 de 500\n",
      "Enlaces procesados: 350 de 500\n",
      "Enlaces procesados: 400 de 500\n",
      "Enlaces procesados: 450 de 500\n",
      "Enlaces procesados: 500 de 500\n"
     ]
    },
    {
     "data": {
      "text/html": [
       "<div style='background-color: #b8daba; padding: 10px; border: 1px solid #007723; border-radius: 5px;'><strong>IMBUEBLES DISPONIBLE:</strong> ¡El DataFrame de tamaño (500, 6) df_inmobiliarias de FINCA RAIZ está disponible para su análisis!</div>"
      ],
      "text/plain": [
       "<IPython.core.display.HTML object>"
      ]
     },
     "metadata": {},
     "output_type": "display_data"
    },
    {
     "name": "stderr",
     "output_type": "stream",
     "text": [
      "C:\\Users\\luisG\\GIT\\SCRAPING\\SCRAPERS\\BUILDINGS\\ML\\ML\\internal.py:290: FutureWarning: The default value of regex will change from True to False in a future version. In addition, single character regular expressions will *not* be treated as literal strings when regex=True.\n",
      "  new_df['price'] = new_df['price'].str.replace(\".\", \"\")\n",
      "C:\\Users\\luisG\\GIT\\SCRAPING\\SCRAPERS\\BUILDINGS\\ML\\ML\\internal.py:299: FutureWarning: The default value of regex will change from True to False in a future version. In addition, single character regular expressions will *not* be treated as literal strings when regex=True.\n",
      "  new_df['longitud'] = new_df['longitud'].str.replace(\".\", \",\")\n",
      "C:\\Users\\luisG\\GIT\\SCRAPING\\SCRAPERS\\BUILDINGS\\ML\\ML\\internal.py:300: FutureWarning: The default value of regex will change from True to False in a future version. In addition, single character regular expressions will *not* be treated as literal strings when regex=True.\n",
      "  new_df['latitud'] = new_df['latitud'].str.replace(\".\", \",\")\n"
     ]
    },
    {
     "name": "stdout",
     "output_type": "stream",
     "text": [
      "Realizando scraping en ML_join_RentalINT_ENE2024__Q1_500...\n",
      "El proceso de scraping ha comenzado a las 07:23 del 15/01/2024\n",
      "Enlaces procesados: 50 de 500\n",
      "Enlaces procesados: 100 de 500\n",
      "Enlaces procesados: 150 de 500\n",
      "Enlaces procesados: 200 de 500\n",
      "Enlaces procesados: 250 de 500\n",
      "Enlaces procesados: 300 de 500\n",
      "Enlaces procesados: 350 de 500\n",
      "Enlaces procesados: 400 de 500\n",
      "Enlaces procesados: 450 de 500\n",
      "Enlaces procesados: 500 de 500\n"
     ]
    },
    {
     "data": {
      "text/html": [
       "<div style='background-color: #b8daba; padding: 10px; border: 1px solid #007723; border-radius: 5px;'><strong>IMBUEBLES DISPONIBLE:</strong> ¡El DataFrame de tamaño (500, 6) df_inmobiliarias de FINCA RAIZ está disponible para su análisis!</div>"
      ],
      "text/plain": [
       "<IPython.core.display.HTML object>"
      ]
     },
     "metadata": {},
     "output_type": "display_data"
    },
    {
     "name": "stderr",
     "output_type": "stream",
     "text": [
      "C:\\Users\\luisG\\GIT\\SCRAPING\\SCRAPERS\\BUILDINGS\\ML\\ML\\internal.py:290: FutureWarning: The default value of regex will change from True to False in a future version. In addition, single character regular expressions will *not* be treated as literal strings when regex=True.\n",
      "  new_df['price'] = new_df['price'].str.replace(\".\", \"\")\n",
      "C:\\Users\\luisG\\GIT\\SCRAPING\\SCRAPERS\\BUILDINGS\\ML\\ML\\internal.py:299: FutureWarning: The default value of regex will change from True to False in a future version. In addition, single character regular expressions will *not* be treated as literal strings when regex=True.\n",
      "  new_df['longitud'] = new_df['longitud'].str.replace(\".\", \",\")\n",
      "C:\\Users\\luisG\\GIT\\SCRAPING\\SCRAPERS\\BUILDINGS\\ML\\ML\\internal.py:300: FutureWarning: The default value of regex will change from True to False in a future version. In addition, single character regular expressions will *not* be treated as literal strings when regex=True.\n",
      "  new_df['latitud'] = new_df['latitud'].str.replace(\".\", \",\")\n"
     ]
    },
    {
     "name": "stdout",
     "output_type": "stream",
     "text": [
      "Realizando scraping en ML_join_RentalINT_ENE2024__Q1_1000...\n",
      "El proceso de scraping ha comenzado a las 07:49 del 15/01/2024\n",
      "Enlaces procesados: 50 de 500\n",
      "Enlaces procesados: 100 de 500\n",
      "Enlaces procesados: 150 de 500\n",
      "Enlaces procesados: 200 de 500\n",
      "Enlaces procesados: 250 de 500\n",
      "Enlaces procesados: 300 de 500\n",
      "Enlaces procesados: 350 de 500\n",
      "Enlaces procesados: 400 de 500\n",
      "Enlaces procesados: 450 de 500\n",
      "Enlaces procesados: 500 de 500\n"
     ]
    },
    {
     "data": {
      "text/html": [
       "<div style='background-color: #b8daba; padding: 10px; border: 1px solid #007723; border-radius: 5px;'><strong>IMBUEBLES DISPONIBLE:</strong> ¡El DataFrame de tamaño (500, 6) df_inmobiliarias de FINCA RAIZ está disponible para su análisis!</div>"
      ],
      "text/plain": [
       "<IPython.core.display.HTML object>"
      ]
     },
     "metadata": {},
     "output_type": "display_data"
    },
    {
     "name": "stderr",
     "output_type": "stream",
     "text": [
      "C:\\Users\\luisG\\GIT\\SCRAPING\\SCRAPERS\\BUILDINGS\\ML\\ML\\internal.py:290: FutureWarning: The default value of regex will change from True to False in a future version. In addition, single character regular expressions will *not* be treated as literal strings when regex=True.\n",
      "  new_df['price'] = new_df['price'].str.replace(\".\", \"\")\n",
      "C:\\Users\\luisG\\GIT\\SCRAPING\\SCRAPERS\\BUILDINGS\\ML\\ML\\internal.py:299: FutureWarning: The default value of regex will change from True to False in a future version. In addition, single character regular expressions will *not* be treated as literal strings when regex=True.\n",
      "  new_df['longitud'] = new_df['longitud'].str.replace(\".\", \",\")\n",
      "C:\\Users\\luisG\\GIT\\SCRAPING\\SCRAPERS\\BUILDINGS\\ML\\ML\\internal.py:300: FutureWarning: The default value of regex will change from True to False in a future version. In addition, single character regular expressions will *not* be treated as literal strings when regex=True.\n",
      "  new_df['latitud'] = new_df['latitud'].str.replace(\".\", \",\")\n"
     ]
    },
    {
     "name": "stdout",
     "output_type": "stream",
     "text": [
      "Realizando scraping en ML_join_RentalINT_ENE2024__Q1_1500...\n",
      "El proceso de scraping ha comenzado a las 08:16 del 15/01/2024\n",
      "Enlaces procesados: 50 de 500\n",
      "Enlaces procesados: 100 de 500\n",
      "Enlaces procesados: 150 de 500\n",
      "Enlaces procesados: 200 de 500\n",
      "Enlaces procesados: 250 de 500\n",
      "Enlaces procesados: 300 de 500\n",
      "Enlaces procesados: 350 de 500\n",
      "Enlaces procesados: 400 de 500\n",
      "Enlaces procesados: 450 de 500\n",
      "Enlaces procesados: 500 de 500\n"
     ]
    },
    {
     "data": {
      "text/html": [
       "<div style='background-color: #b8daba; padding: 10px; border: 1px solid #007723; border-radius: 5px;'><strong>IMBUEBLES DISPONIBLE:</strong> ¡El DataFrame de tamaño (500, 6) df_inmobiliarias de FINCA RAIZ está disponible para su análisis!</div>"
      ],
      "text/plain": [
       "<IPython.core.display.HTML object>"
      ]
     },
     "metadata": {},
     "output_type": "display_data"
    },
    {
     "name": "stderr",
     "output_type": "stream",
     "text": [
      "C:\\Users\\luisG\\GIT\\SCRAPING\\SCRAPERS\\BUILDINGS\\ML\\ML\\internal.py:290: FutureWarning: The default value of regex will change from True to False in a future version. In addition, single character regular expressions will *not* be treated as literal strings when regex=True.\n",
      "  new_df['price'] = new_df['price'].str.replace(\".\", \"\")\n",
      "C:\\Users\\luisG\\GIT\\SCRAPING\\SCRAPERS\\BUILDINGS\\ML\\ML\\internal.py:299: FutureWarning: The default value of regex will change from True to False in a future version. In addition, single character regular expressions will *not* be treated as literal strings when regex=True.\n",
      "  new_df['longitud'] = new_df['longitud'].str.replace(\".\", \",\")\n",
      "C:\\Users\\luisG\\GIT\\SCRAPING\\SCRAPERS\\BUILDINGS\\ML\\ML\\internal.py:300: FutureWarning: The default value of regex will change from True to False in a future version. In addition, single character regular expressions will *not* be treated as literal strings when regex=True.\n",
      "  new_df['latitud'] = new_df['latitud'].str.replace(\".\", \",\")\n"
     ]
    },
    {
     "name": "stdout",
     "output_type": "stream",
     "text": [
      "Realizando scraping en ML_join_RentalINT_ENE2024__Q1_2000...\n",
      "El proceso de scraping ha comenzado a las 08:42 del 15/01/2024\n",
      "Enlaces procesados: 50 de 500\n",
      "Enlaces procesados: 100 de 500\n",
      "Enlaces procesados: 150 de 500\n",
      "Enlaces procesados: 200 de 500\n",
      "Enlaces procesados: 250 de 500\n",
      "Enlaces procesados: 300 de 500\n",
      "Enlaces procesados: 350 de 500\n",
      "Enlaces procesados: 400 de 500\n",
      "Enlaces procesados: 450 de 500\n",
      "Enlaces procesados: 500 de 500\n"
     ]
    },
    {
     "data": {
      "text/html": [
       "<div style='background-color: #b8daba; padding: 10px; border: 1px solid #007723; border-radius: 5px;'><strong>IMBUEBLES DISPONIBLE:</strong> ¡El DataFrame de tamaño (500, 6) df_inmobiliarias de FINCA RAIZ está disponible para su análisis!</div>"
      ],
      "text/plain": [
       "<IPython.core.display.HTML object>"
      ]
     },
     "metadata": {},
     "output_type": "display_data"
    },
    {
     "name": "stderr",
     "output_type": "stream",
     "text": [
      "C:\\Users\\luisG\\GIT\\SCRAPING\\SCRAPERS\\BUILDINGS\\ML\\ML\\internal.py:290: FutureWarning: The default value of regex will change from True to False in a future version. In addition, single character regular expressions will *not* be treated as literal strings when regex=True.\n",
      "  new_df['price'] = new_df['price'].str.replace(\".\", \"\")\n",
      "C:\\Users\\luisG\\GIT\\SCRAPING\\SCRAPERS\\BUILDINGS\\ML\\ML\\internal.py:299: FutureWarning: The default value of regex will change from True to False in a future version. In addition, single character regular expressions will *not* be treated as literal strings when regex=True.\n",
      "  new_df['longitud'] = new_df['longitud'].str.replace(\".\", \",\")\n",
      "C:\\Users\\luisG\\GIT\\SCRAPING\\SCRAPERS\\BUILDINGS\\ML\\ML\\internal.py:300: FutureWarning: The default value of regex will change from True to False in a future version. In addition, single character regular expressions will *not* be treated as literal strings when regex=True.\n",
      "  new_df['latitud'] = new_df['latitud'].str.replace(\".\", \",\")\n"
     ]
    },
    {
     "name": "stdout",
     "output_type": "stream",
     "text": [
      "Realizando scraping en ML_join_RentalINT_ENE2024__Q1_2500...\n",
      "El proceso de scraping ha comenzado a las 09:01 del 15/01/2024\n",
      "Enlaces procesados: 50 de 335\n",
      "Enlaces procesados: 100 de 335\n",
      "Enlaces procesados: 150 de 335\n",
      "Enlaces procesados: 200 de 335\n",
      "Enlaces procesados: 250 de 335\n",
      "Enlaces procesados: 300 de 335\n"
     ]
    },
    {
     "data": {
      "text/html": [
       "<div style='background-color: #b8daba; padding: 10px; border: 1px solid #007723; border-radius: 5px;'><strong>IMBUEBLES DISPONIBLE:</strong> ¡El DataFrame de tamaño (335, 6) df_inmobiliarias de FINCA RAIZ está disponible para su análisis!</div>"
      ],
      "text/plain": [
       "<IPython.core.display.HTML object>"
      ]
     },
     "metadata": {},
     "output_type": "display_data"
    },
    {
     "name": "stdout",
     "output_type": "stream",
     "text": [
      "El proceso de scraping ha terminado a las 09:16 del 15/01/2024\n"
     ]
    },
    {
     "name": "stderr",
     "output_type": "stream",
     "text": [
      "C:\\Users\\luisG\\GIT\\SCRAPING\\SCRAPERS\\BUILDINGS\\ML\\ML\\internal.py:290: FutureWarning: The default value of regex will change from True to False in a future version. In addition, single character regular expressions will *not* be treated as literal strings when regex=True.\n",
      "  new_df['price'] = new_df['price'].str.replace(\".\", \"\")\n",
      "C:\\Users\\luisG\\GIT\\SCRAPING\\SCRAPERS\\BUILDINGS\\ML\\ML\\internal.py:299: FutureWarning: The default value of regex will change from True to False in a future version. In addition, single character regular expressions will *not* be treated as literal strings when regex=True.\n",
      "  new_df['longitud'] = new_df['longitud'].str.replace(\".\", \",\")\n",
      "C:\\Users\\luisG\\GIT\\SCRAPING\\SCRAPERS\\BUILDINGS\\ML\\ML\\internal.py:300: FutureWarning: The default value of regex will change from True to False in a future version. In addition, single character regular expressions will *not* be treated as literal strings when regex=True.\n",
      "  new_df['latitud'] = new_df['latitud'].str.replace(\".\", \",\")\n"
     ]
    }
   ],
   "source": [
    "inmueble_slow_resultados = []    \n",
    "\n",
    "try:\n",
    "    start_time = datetime.now()\n",
    "    print(f\"El proceso de scraping ha comenzado a las {start_time.strftime('%H:%M')} del {start_time.strftime('%d/%m/%Y')}\")\n",
    "\n",
    "    for df_key, df_value in dfs.items():\n",
    "        print(f\"Realizando scraping en {df_key}...\")\n",
    "        scraped_data = internal(df_value)\n",
    "        inmueble_slow_resultados.extend(scraped_data) \n",
    "        processed_data = rd(scraped_data)\n",
    "        sd(processed_data, f'{result_dir}/{df_key}')\n",
    "        dtf(ruta_bat)\n",
    "\n",
    "    #Fin del scraping: \n",
    "    end_time = datetime.now()\n",
    "    print(f\"El proceso de scraping ha terminado a las {end_time.strftime('%H:%M')} del {end_time.strftime('%d/%m/%Y')}\")\n",
    "    \n",
    "except Exception as e:\n",
    "    print(f\"Se produjo un error en el scraping: {e}\")\n"
   ]
  }
 ],
 "metadata": {
  "kernelspec": {
   "display_name": "Python 3 (ipykernel)",
   "language": "python",
   "name": "python3"
  },
  "language_info": {
   "codemirror_mode": {
    "name": "ipython",
    "version": 3
   },
   "file_extension": ".py",
   "mimetype": "text/x-python",
   "name": "python",
   "nbconvert_exporter": "python",
   "pygments_lexer": "ipython3",
   "version": "3.11.3"
  }
 },
 "nbformat": 4,
 "nbformat_minor": 2
}
