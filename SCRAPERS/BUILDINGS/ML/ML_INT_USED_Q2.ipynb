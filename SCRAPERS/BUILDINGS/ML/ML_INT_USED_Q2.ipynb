{
 "cells": [
  {
   "cell_type": "markdown",
   "metadata": {},
   "source": [
    "# Libraries and modules\n"
   ]
  },
  {
   "cell_type": "code",
   "execution_count": 1,
   "metadata": {},
   "outputs": [],
   "source": [
    "import pandas as pd \n",
    "from datetime import datetime\n",
    "from ML.internal import selectdfQ, regexdata as rd, scrapedInternalPage\n",
    "from ML.tools import savedata as sd, deltempfiles as dtf\n",
    "from ML.directories import master_directory as md, directory_bat_file \n",
    "\n",
    "pd.set_option('display.max_rows', None)\n",
    "pd.set_option('display.max_columns', None)\n",
    "pd.set_option('display.max_colwidth', None)"
   ]
  },
  {
   "cell_type": "markdown",
   "metadata": {},
   "source": [
    "# __ENVIRONMENT__"
   ]
  },
  {
   "cell_type": "code",
   "execution_count": 2,
   "metadata": {},
   "outputs": [],
   "source": [
    "# Variables \n",
    "\n",
    "mth = 'FEB'       #Update each month\n",
    "yr = '2024'       #Update each month\n",
    "\n",
    "op = 'Sale'\n",
    "web = 'ML'\n",
    "\n",
    "#Master directory\n",
    "master_dir = md()\n",
    "master_dir = f'{master_dir}/{web}'\n",
    "\n",
    "\n",
    "#IMPORT\n",
    "#Directories to import files \n",
    "moni_dir_imp = f'{master_dir}/FRONTPAGE/MONITORING/{yr}/{mth}'\n",
    "\n",
    "#import files \n",
    "###############################################################################################################\n",
    "fl_master_imp = f'{web}_{mth}{yr}_{op}_Front.csv'\n",
    "\n",
    "inputfile = f'{moni_dir_imp}/{fl_master_imp}' \n",
    "\n",
    "\n",
    "\n",
    "#EXPORT\n",
    "#Directories to export files \n",
    "result_dir = f'{master_dir}/INTERNAL/JOIN'\n",
    "\n",
    "#Export files \n",
    "###############################################################################################################\n",
    "#This files is going to be joined for create the master file, which contains all the data for the fron page\n",
    "fl_pre = f'{web}_join_{op}INT_{mth}{yr}_'\n",
    "\n",
    "\n",
    "# Ruta al archivo .bat\n",
    "ruta_bat = directory_bat_file()\n",
    "ruta_bat = f'{ruta_bat}/deltemporal_exect.bat'"
   ]
  },
  {
   "cell_type": "markdown",
   "metadata": {},
   "source": [
    "# Read frontpage df "
   ]
  },
  {
   "cell_type": "code",
   "execution_count": 3,
   "metadata": {},
   "outputs": [
    {
     "name": "stderr",
     "output_type": "stream",
     "text": [
      "C:\\Users\\luisG\\AppData\\Local\\Temp\\ipykernel_46540\\176173939.py:1: DtypeWarning: Columns (9) have mixed types. Specify dtype option on import or set low_memory=False.\n",
      "  df = pd.read_csv(f'{inputfile}', sep = ';', encoding = 'utf-16')\n"
     ]
    },
    {
     "data": {
      "text/plain": [
       "57245"
      ]
     },
     "execution_count": 3,
     "metadata": {},
     "output_type": "execute_result"
    }
   ],
   "source": [
    "df = pd.read_csv(f'{inputfile}', sep = ';', encoding = 'utf-16')\n",
    "len(df)"
   ]
  },
  {
   "cell_type": "markdown",
   "metadata": {},
   "source": [
    "## Choosing the df \n"
   ]
  },
  {
   "cell_type": "code",
   "execution_count": 4,
   "metadata": {},
   "outputs": [
    {
     "name": "stdout",
     "output_type": "stream",
     "text": [
      "56919\n",
      "Usted seleccionó dfQ2 con: 28460 obs\n"
     ]
    }
   ],
   "source": [
    "dfQ2, _ = selectdfQ(df, 2, 'venta') # 1 only select the first 25% of the data "
   ]
  },
  {
   "cell_type": "markdown",
   "metadata": {},
   "source": [
    "# Split data "
   ]
  },
  {
   "cell_type": "code",
   "execution_count": 5,
   "metadata": {},
   "outputs": [
    {
     "name": "stdout",
     "output_type": "stream",
     "text": [
      "Se crearon 57 DataFrames para df_inmobiliaria:\n"
     ]
    }
   ],
   "source": [
    "#Separación Q1\n",
    "#############################################################################################################\n",
    "# Calcula cuántos DataFrames de 5000 observaciones necesitarás\n",
    "num_dfs = len(dfQ2) // 500 + (1 if len(dfQ2) % 500 != 0 else 0)\n",
    "# Dividir df_inmobiliaria entre 5000 observaciones cada uno para hacer el scrapign sin problemas\n",
    "dfs = {f'{fl_pre}_Q2_{i}': dfQ2.iloc[i:i+500] for i in range(0, len(dfQ2), 500)}\n",
    "# Nombres de df_inmobiliaria\n",
    "print(f'Se crearon {num_dfs} DataFrames para df_inmobiliaria:')"
   ]
  },
  {
   "cell_type": "markdown",
   "metadata": {},
   "source": [
    "# __Scraping__"
   ]
  },
  {
   "cell_type": "code",
   "execution_count": null,
   "metadata": {
    "scrolled": true
   },
   "outputs": [],
   "source": [
    "inmueble_slow_resultados = []    \n",
    "\n",
    "try:\n",
    "    start_time = datetime.now()\n",
    "    print(f\"El proceso de scraping ha comenzado a las {start_time.strftime('%H:%M')} del {start_time.strftime('%d/%m/%Y')}\")\n",
    "\n",
    "    for df_key, df_value in dfs.items():\n",
    "        print(f\"Realizando scraping en {df_key}...\")\n",
    "        scraped_data = scrapedInternalPage(df_value)\n",
    "        inmueble_slow_resultados.extend(scraped_data) \n",
    "        processed_data = rd(scraped_data)\n",
    "        sd(processed_data, f'{result_dir}/{df_key}')\n",
    "        dtf(ruta_bat)\n",
    "\n",
    "    #Fin del scraping: \n",
    "    end_time = datetime.now()\n",
    "    print(f\"El proceso de scraping ha terminado a las {end_time.strftime('%H:%M')} del {end_time.strftime('%d/%m/%Y')}\")\n",
    "    \n",
    "except Exception as e:\n",
    "    print(f\"Se produjo un error en el scraping: {e}\")\n"
   ]
  }
 ],
 "metadata": {
  "kernelspec": {
   "display_name": "Python 3 (ipykernel)",
   "language": "python",
   "name": "python3"
  },
  "language_info": {
   "codemirror_mode": {
    "name": "ipython",
    "version": 3
   },
   "file_extension": ".py",
   "mimetype": "text/x-python",
   "name": "python",
   "nbconvert_exporter": "python",
   "pygments_lexer": "ipython3",
   "version": "3.11.3"
  }
 },
 "nbformat": 4,
 "nbformat_minor": 2
}
