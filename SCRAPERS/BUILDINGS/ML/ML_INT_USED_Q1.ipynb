{
 "cells": [
  {
   "cell_type": "markdown",
   "metadata": {},
   "source": [
    "# Libraries and modules\n"
   ]
  },
  {
   "cell_type": "code",
   "execution_count": 1,
   "metadata": {},
   "outputs": [],
   "source": [
    "import pandas as pd \n",
    "from datetime import datetime\n",
    "from ML.internal import selectdfQ, regexdata as rd, internal\n",
    "from ML.tools import savedata as sd, deltempfiles as dtf, master_dir as md \n",
    "\n",
    "#Visual de data (permite ver todo un df)\n",
    "pd.set_option('display.max_rows', None)\n",
    "pd.set_option('display.max_columns', None)\n",
    "pd.set_option('display.max_colwidth', None)"
   ]
  },
  {
   "cell_type": "markdown",
   "metadata": {},
   "source": [
    "# __ENVIRONMENT__"
   ]
  },
  {
   "cell_type": "code",
   "execution_count": 2,
   "metadata": {},
   "outputs": [],
   "source": [
    "# Variables \n",
    "\n",
    "mth = 'FEB'       #Update each month\n",
    "yr = '2024'       #Update each month\n",
    "\n",
    "op = 'Sale'\n",
    "web = 'ML'\n",
    "\n",
    "#Master directory\n",
    "master_dir = md()\n",
    "master_dir = f'{master_dir}/{web}'\n",
    "\n",
    "\n",
    "#IMPORT\n",
    "#Directories to import files \n",
    "moni_dir_imp = f'{master_dir}/FRONTPAGE/MONITORING/{yr}/{mth}'\n",
    "\n",
    "#import files \n",
    "###############################################################################################################\n",
    "fl_master_imp = f'{web}_{mth}{yr}_{op}_Front.csv'\n",
    "\n",
    "inputfile = f'{moni_dir_imp}/{fl_master_imp}' \n",
    "\n",
    "\n",
    "\n",
    "#EXPORT\n",
    "#Directories to export files \n",
    "result_dir = f'{master_dir}/INTERNAL/JOIN'\n",
    "\n",
    "#Export files \n",
    "###############################################################################################################\n",
    "#This files is going to be joined for create the master file, which contains all the data for the fron page\n",
    "fl_pre = f'{web}_join_{op}INT_{mth}{yr}_'\n",
    "\n",
    "\n",
    "# Ruta al archivo .bat\n",
    "ruta_bat = r'C:/Users/luisG/GIT/SCRAPING/deltemporal_exect.bat'\n",
    "ruta_txt = r'C:Users/luisG/AppData/Local/Temp/eliminacion_log.txt'  #Is could change depending the computer"
   ]
  },
  {
   "cell_type": "markdown",
   "metadata": {},
   "source": [
    "# Read frontpage df "
   ]
  },
  {
   "cell_type": "code",
   "execution_count": 3,
   "metadata": {},
   "outputs": [
    {
     "name": "stderr",
     "output_type": "stream",
     "text": [
      "C:\\Users\\luisG\\AppData\\Local\\Temp\\ipykernel_63860\\176173939.py:1: DtypeWarning: Columns (9) have mixed types. Specify dtype option on import or set low_memory=False.\n",
      "  df = pd.read_csv(f'{inputfile}', sep = ';', encoding = 'utf-16')\n"
     ]
    },
    {
     "data": {
      "text/plain": [
       "57245"
      ]
     },
     "execution_count": 3,
     "metadata": {},
     "output_type": "execute_result"
    }
   ],
   "source": [
    "df = pd.read_csv(f'{inputfile}', sep = ';', encoding = 'utf-16')\n",
    "len(df)"
   ]
  },
  {
   "cell_type": "markdown",
   "metadata": {},
   "source": [
    "## Choosing the df \n"
   ]
  },
  {
   "cell_type": "code",
   "execution_count": 4,
   "metadata": {},
   "outputs": [
    {
     "name": "stdout",
     "output_type": "stream",
     "text": [
      "56919\n",
      "Usted seleccionó dfQ1 con: 28459 obs\n"
     ]
    }
   ],
   "source": [
    "dfQ1, _ = selectdfQ(df, 1, 'venta') # 1 only select the first 25% of the data "
   ]
  },
  {
   "cell_type": "markdown",
   "metadata": {},
   "source": [
    "# Split data "
   ]
  },
  {
   "cell_type": "code",
   "execution_count": 6,
   "metadata": {},
   "outputs": [
    {
     "name": "stdout",
     "output_type": "stream",
     "text": [
      "Se crearon 57 DataFrames para df_inmobiliaria:\n"
     ]
    }
   ],
   "source": [
    "#Separación Q1\n",
    "#############################################################################################################\n",
    "# Calcula cuántos DataFrames de 5000 observaciones necesitarás\n",
    "num_dfs = len(dfQ1) // 500 + (1 if len(dfQ1) % 500 != 0 else 0)\n",
    "# Dividir df_inmobiliaria entre 5000 observaciones cada uno para hacer el scrapign sin problemas\n",
    "dfs = {f'{fl_pre}_Q1_{i}': dfQ1.iloc[i:i+500] for i in range(0, len(dfQ1), 500)}\n",
    "# Nombres de df_inmobiliaria\n",
    "print(f'Se crearon {num_dfs} DataFrames para df_inmobiliaria:')"
   ]
  },
  {
   "cell_type": "markdown",
   "metadata": {},
   "source": [
    "# __Scraping__"
   ]
  },
  {
   "cell_type": "code",
   "execution_count": 7,
   "metadata": {},
   "outputs": [
    {
     "name": "stdout",
     "output_type": "stream",
     "text": [
      "El proceso de scraping ha comenzado a las 09:29 del 09/02/2024\n",
      "Realizando scraping en ML_join_SaleINT_FEB2024__Q1_0...\n",
      "El proceso de scraping ha comenzado a las 09:29 del 09/02/2024\n",
      "Enlaces procesados: 50 de 500\n",
      "Enlaces procesados: 100 de 500\n",
      "Enlaces procesados: 150 de 500\n",
      "Enlaces procesados: 200 de 500\n",
      "Enlaces procesados: 250 de 500\n",
      "Enlaces procesados: 300 de 500\n",
      "Enlaces procesados: 350 de 500\n",
      "Enlaces procesados: 400 de 500\n",
      "Enlaces procesados: 450 de 500\n",
      "Enlaces procesados: 500 de 500\n"
     ]
    },
    {
     "data": {
      "text/html": [
       "<div style='background-color: #b8daba; padding: 10px; border: 1px solid #007723; border-radius: 5px;'><strong>IMBUEBLES DISPONIBLE:</strong> ¡El DataFrame de tamaño (500, 6) df_inmobiliarias de FINCA RAIZ está disponible para su análisis!</div>"
      ],
      "text/plain": [
       "<IPython.core.display.HTML object>"
      ]
     },
     "metadata": {},
     "output_type": "display_data"
    },
    {
     "name": "stderr",
     "output_type": "stream",
     "text": [
      "C:\\Users\\luisG\\GIT\\SCRAPING\\SCRAPERS\\BUILDINGS\\ML\\ML\\internal.py:290: FutureWarning: The default value of regex will change from True to False in a future version. In addition, single character regular expressions will *not* be treated as literal strings when regex=True.\n",
      "  new_df['price'] = new_df['price'].str.replace(\".\", \"\")\n",
      "C:\\Users\\luisG\\GIT\\SCRAPING\\SCRAPERS\\BUILDINGS\\ML\\ML\\internal.py:299: FutureWarning: The default value of regex will change from True to False in a future version. In addition, single character regular expressions will *not* be treated as literal strings when regex=True.\n",
      "  new_df['longitud'] = new_df['longitud'].str.replace(\".\", \",\")\n",
      "C:\\Users\\luisG\\GIT\\SCRAPING\\SCRAPERS\\BUILDINGS\\ML\\ML\\internal.py:300: FutureWarning: The default value of regex will change from True to False in a future version. In addition, single character regular expressions will *not* be treated as literal strings when regex=True.\n",
      "  new_df['latitud'] = new_df['latitud'].str.replace(\".\", \",\")\n"
     ]
    },
    {
     "name": "stdout",
     "output_type": "stream",
     "text": [
      "Realizando scraping en ML_join_SaleINT_FEB2024__Q1_500...\n",
      "El proceso de scraping ha comenzado a las 10:00 del 09/02/2024\n",
      "Enlaces procesados: 50 de 500\n",
      "Enlaces procesados: 100 de 500\n",
      "Enlaces procesados: 150 de 500\n",
      "Enlaces procesados: 200 de 500\n",
      "Enlaces procesados: 250 de 500\n",
      "Enlaces procesados: 300 de 500\n",
      "Enlaces procesados: 350 de 500\n",
      "Enlaces procesados: 400 de 500\n",
      "Enlaces procesados: 450 de 500\n",
      "Enlaces procesados: 500 de 500\n"
     ]
    },
    {
     "data": {
      "text/html": [
       "<div style='background-color: #b8daba; padding: 10px; border: 1px solid #007723; border-radius: 5px;'><strong>IMBUEBLES DISPONIBLE:</strong> ¡El DataFrame de tamaño (500, 6) df_inmobiliarias de FINCA RAIZ está disponible para su análisis!</div>"
      ],
      "text/plain": [
       "<IPython.core.display.HTML object>"
      ]
     },
     "metadata": {},
     "output_type": "display_data"
    },
    {
     "name": "stderr",
     "output_type": "stream",
     "text": [
      "C:\\Users\\luisG\\GIT\\SCRAPING\\SCRAPERS\\BUILDINGS\\ML\\ML\\internal.py:290: FutureWarning: The default value of regex will change from True to False in a future version. In addition, single character regular expressions will *not* be treated as literal strings when regex=True.\n",
      "  new_df['price'] = new_df['price'].str.replace(\".\", \"\")\n",
      "C:\\Users\\luisG\\GIT\\SCRAPING\\SCRAPERS\\BUILDINGS\\ML\\ML\\internal.py:299: FutureWarning: The default value of regex will change from True to False in a future version. In addition, single character regular expressions will *not* be treated as literal strings when regex=True.\n",
      "  new_df['longitud'] = new_df['longitud'].str.replace(\".\", \",\")\n",
      "C:\\Users\\luisG\\GIT\\SCRAPING\\SCRAPERS\\BUILDINGS\\ML\\ML\\internal.py:300: FutureWarning: The default value of regex will change from True to False in a future version. In addition, single character regular expressions will *not* be treated as literal strings when regex=True.\n",
      "  new_df['latitud'] = new_df['latitud'].str.replace(\".\", \",\")\n"
     ]
    },
    {
     "name": "stdout",
     "output_type": "stream",
     "text": [
      "Realizando scraping en ML_join_SaleINT_FEB2024__Q1_1000...\n",
      "El proceso de scraping ha comenzado a las 10:22 del 09/02/2024\n",
      "Enlaces procesados: 50 de 500\n",
      "Enlaces procesados: 100 de 500\n",
      "Enlaces procesados: 150 de 500\n",
      "Enlaces procesados: 200 de 500\n",
      "Enlaces procesados: 250 de 500\n",
      "Enlaces procesados: 300 de 500\n",
      "Enlaces procesados: 350 de 500\n",
      "Enlaces procesados: 400 de 500\n",
      "Enlaces procesados: 450 de 500\n",
      "Enlaces procesados: 500 de 500\n"
     ]
    },
    {
     "data": {
      "text/html": [
       "<div style='background-color: #b8daba; padding: 10px; border: 1px solid #007723; border-radius: 5px;'><strong>IMBUEBLES DISPONIBLE:</strong> ¡El DataFrame de tamaño (500, 6) df_inmobiliarias de FINCA RAIZ está disponible para su análisis!</div>"
      ],
      "text/plain": [
       "<IPython.core.display.HTML object>"
      ]
     },
     "metadata": {},
     "output_type": "display_data"
    },
    {
     "name": "stderr",
     "output_type": "stream",
     "text": [
      "C:\\Users\\luisG\\GIT\\SCRAPING\\SCRAPERS\\BUILDINGS\\ML\\ML\\internal.py:290: FutureWarning: The default value of regex will change from True to False in a future version. In addition, single character regular expressions will *not* be treated as literal strings when regex=True.\n",
      "  new_df['price'] = new_df['price'].str.replace(\".\", \"\")\n",
      "C:\\Users\\luisG\\GIT\\SCRAPING\\SCRAPERS\\BUILDINGS\\ML\\ML\\internal.py:299: FutureWarning: The default value of regex will change from True to False in a future version. In addition, single character regular expressions will *not* be treated as literal strings when regex=True.\n",
      "  new_df['longitud'] = new_df['longitud'].str.replace(\".\", \",\")\n",
      "C:\\Users\\luisG\\GIT\\SCRAPING\\SCRAPERS\\BUILDINGS\\ML\\ML\\internal.py:300: FutureWarning: The default value of regex will change from True to False in a future version. In addition, single character regular expressions will *not* be treated as literal strings when regex=True.\n",
      "  new_df['latitud'] = new_df['latitud'].str.replace(\".\", \",\")\n"
     ]
    },
    {
     "name": "stdout",
     "output_type": "stream",
     "text": [
      "Realizando scraping en ML_join_SaleINT_FEB2024__Q1_1500...\n",
      "El proceso de scraping ha comenzado a las 10:36 del 09/02/2024\n",
      "Enlaces procesados: 50 de 500\n",
      "Enlaces procesados: 100 de 500\n",
      "Enlaces procesados: 150 de 500\n",
      "Enlaces procesados: 200 de 500\n",
      "Enlaces procesados: 250 de 500\n",
      "Enlaces procesados: 300 de 500\n",
      "Enlaces procesados: 350 de 500\n",
      "Enlaces procesados: 400 de 500\n",
      "Enlaces procesados: 450 de 500\n",
      "Enlaces procesados: 500 de 500\n"
     ]
    },
    {
     "data": {
      "text/html": [
       "<div style='background-color: #b8daba; padding: 10px; border: 1px solid #007723; border-radius: 5px;'><strong>IMBUEBLES DISPONIBLE:</strong> ¡El DataFrame de tamaño (500, 6) df_inmobiliarias de FINCA RAIZ está disponible para su análisis!</div>"
      ],
      "text/plain": [
       "<IPython.core.display.HTML object>"
      ]
     },
     "metadata": {},
     "output_type": "display_data"
    },
    {
     "name": "stderr",
     "output_type": "stream",
     "text": [
      "C:\\Users\\luisG\\GIT\\SCRAPING\\SCRAPERS\\BUILDINGS\\ML\\ML\\internal.py:290: FutureWarning: The default value of regex will change from True to False in a future version. In addition, single character regular expressions will *not* be treated as literal strings when regex=True.\n",
      "  new_df['price'] = new_df['price'].str.replace(\".\", \"\")\n",
      "C:\\Users\\luisG\\GIT\\SCRAPING\\SCRAPERS\\BUILDINGS\\ML\\ML\\internal.py:299: FutureWarning: The default value of regex will change from True to False in a future version. In addition, single character regular expressions will *not* be treated as literal strings when regex=True.\n",
      "  new_df['longitud'] = new_df['longitud'].str.replace(\".\", \",\")\n",
      "C:\\Users\\luisG\\GIT\\SCRAPING\\SCRAPERS\\BUILDINGS\\ML\\ML\\internal.py:300: FutureWarning: The default value of regex will change from True to False in a future version. In addition, single character regular expressions will *not* be treated as literal strings when regex=True.\n",
      "  new_df['latitud'] = new_df['latitud'].str.replace(\".\", \",\")\n"
     ]
    },
    {
     "name": "stdout",
     "output_type": "stream",
     "text": [
      "Realizando scraping en ML_join_SaleINT_FEB2024__Q1_2000...\n",
      "El proceso de scraping ha comenzado a las 10:59 del 09/02/2024\n",
      "Enlaces procesados: 50 de 500\n",
      "Enlaces procesados: 100 de 500\n",
      "Enlaces procesados: 150 de 500\n",
      "Enlaces procesados: 200 de 500\n",
      "Enlaces procesados: 250 de 500\n",
      "Enlaces procesados: 300 de 500\n",
      "Enlaces procesados: 350 de 500\n",
      "Enlaces procesados: 400 de 500\n",
      "Enlaces procesados: 450 de 500\n",
      "Enlaces procesados: 500 de 500\n"
     ]
    },
    {
     "data": {
      "text/html": [
       "<div style='background-color: #b8daba; padding: 10px; border: 1px solid #007723; border-radius: 5px;'><strong>IMBUEBLES DISPONIBLE:</strong> ¡El DataFrame de tamaño (500, 6) df_inmobiliarias de FINCA RAIZ está disponible para su análisis!</div>"
      ],
      "text/plain": [
       "<IPython.core.display.HTML object>"
      ]
     },
     "metadata": {},
     "output_type": "display_data"
    },
    {
     "name": "stderr",
     "output_type": "stream",
     "text": [
      "C:\\Users\\luisG\\GIT\\SCRAPING\\SCRAPERS\\BUILDINGS\\ML\\ML\\internal.py:290: FutureWarning: The default value of regex will change from True to False in a future version. In addition, single character regular expressions will *not* be treated as literal strings when regex=True.\n",
      "  new_df['price'] = new_df['price'].str.replace(\".\", \"\")\n",
      "C:\\Users\\luisG\\GIT\\SCRAPING\\SCRAPERS\\BUILDINGS\\ML\\ML\\internal.py:299: FutureWarning: The default value of regex will change from True to False in a future version. In addition, single character regular expressions will *not* be treated as literal strings when regex=True.\n",
      "  new_df['longitud'] = new_df['longitud'].str.replace(\".\", \",\")\n",
      "C:\\Users\\luisG\\GIT\\SCRAPING\\SCRAPERS\\BUILDINGS\\ML\\ML\\internal.py:300: FutureWarning: The default value of regex will change from True to False in a future version. In addition, single character regular expressions will *not* be treated as literal strings when regex=True.\n",
      "  new_df['latitud'] = new_df['latitud'].str.replace(\".\", \",\")\n"
     ]
    },
    {
     "name": "stdout",
     "output_type": "stream",
     "text": [
      "Realizando scraping en ML_join_SaleINT_FEB2024__Q1_2500...\n",
      "El proceso de scraping ha comenzado a las 11:19 del 09/02/2024\n",
      "Enlaces procesados: 50 de 500\n",
      "Enlaces procesados: 100 de 500\n",
      "Enlaces procesados: 150 de 500\n",
      "Enlaces procesados: 200 de 500\n",
      "Enlaces procesados: 250 de 500\n",
      "Enlaces procesados: 300 de 500\n",
      "Enlaces procesados: 350 de 500\n",
      "Enlaces procesados: 400 de 500\n",
      "Enlaces procesados: 450 de 500\n",
      "Enlaces procesados: 500 de 500\n"
     ]
    },
    {
     "data": {
      "text/html": [
       "<div style='background-color: #b8daba; padding: 10px; border: 1px solid #007723; border-radius: 5px;'><strong>IMBUEBLES DISPONIBLE:</strong> ¡El DataFrame de tamaño (500, 6) df_inmobiliarias de FINCA RAIZ está disponible para su análisis!</div>"
      ],
      "text/plain": [
       "<IPython.core.display.HTML object>"
      ]
     },
     "metadata": {},
     "output_type": "display_data"
    },
    {
     "name": "stderr",
     "output_type": "stream",
     "text": [
      "C:\\Users\\luisG\\GIT\\SCRAPING\\SCRAPERS\\BUILDINGS\\ML\\ML\\internal.py:290: FutureWarning: The default value of regex will change from True to False in a future version. In addition, single character regular expressions will *not* be treated as literal strings when regex=True.\n",
      "  new_df['price'] = new_df['price'].str.replace(\".\", \"\")\n",
      "C:\\Users\\luisG\\GIT\\SCRAPING\\SCRAPERS\\BUILDINGS\\ML\\ML\\internal.py:299: FutureWarning: The default value of regex will change from True to False in a future version. In addition, single character regular expressions will *not* be treated as literal strings when regex=True.\n",
      "  new_df['longitud'] = new_df['longitud'].str.replace(\".\", \",\")\n",
      "C:\\Users\\luisG\\GIT\\SCRAPING\\SCRAPERS\\BUILDINGS\\ML\\ML\\internal.py:300: FutureWarning: The default value of regex will change from True to False in a future version. In addition, single character regular expressions will *not* be treated as literal strings when regex=True.\n",
      "  new_df['latitud'] = new_df['latitud'].str.replace(\".\", \",\")\n"
     ]
    },
    {
     "name": "stdout",
     "output_type": "stream",
     "text": [
      "Realizando scraping en ML_join_SaleINT_FEB2024__Q1_3000...\n",
      "El proceso de scraping ha comenzado a las 11:53 del 09/02/2024\n",
      "Enlaces procesados: 50 de 500\n",
      "Enlaces procesados: 100 de 500\n",
      "Enlaces procesados: 150 de 500\n",
      "Enlaces procesados: 200 de 500\n",
      "Enlaces procesados: 250 de 500\n",
      "Enlaces procesados: 300 de 500\n",
      "Enlaces procesados: 350 de 500\n",
      "Enlaces procesados: 400 de 500\n",
      "Enlaces procesados: 450 de 500\n",
      "Enlaces procesados: 500 de 500\n"
     ]
    },
    {
     "data": {
      "text/html": [
       "<div style='background-color: #b8daba; padding: 10px; border: 1px solid #007723; border-radius: 5px;'><strong>IMBUEBLES DISPONIBLE:</strong> ¡El DataFrame de tamaño (500, 6) df_inmobiliarias de FINCA RAIZ está disponible para su análisis!</div>"
      ],
      "text/plain": [
       "<IPython.core.display.HTML object>"
      ]
     },
     "metadata": {},
     "output_type": "display_data"
    },
    {
     "name": "stderr",
     "output_type": "stream",
     "text": [
      "C:\\Users\\luisG\\GIT\\SCRAPING\\SCRAPERS\\BUILDINGS\\ML\\ML\\internal.py:290: FutureWarning: The default value of regex will change from True to False in a future version. In addition, single character regular expressions will *not* be treated as literal strings when regex=True.\n",
      "  new_df['price'] = new_df['price'].str.replace(\".\", \"\")\n",
      "C:\\Users\\luisG\\GIT\\SCRAPING\\SCRAPERS\\BUILDINGS\\ML\\ML\\internal.py:299: FutureWarning: The default value of regex will change from True to False in a future version. In addition, single character regular expressions will *not* be treated as literal strings when regex=True.\n",
      "  new_df['longitud'] = new_df['longitud'].str.replace(\".\", \",\")\n",
      "C:\\Users\\luisG\\GIT\\SCRAPING\\SCRAPERS\\BUILDINGS\\ML\\ML\\internal.py:300: FutureWarning: The default value of regex will change from True to False in a future version. In addition, single character regular expressions will *not* be treated as literal strings when regex=True.\n",
      "  new_df['latitud'] = new_df['latitud'].str.replace(\".\", \",\")\n"
     ]
    },
    {
     "name": "stdout",
     "output_type": "stream",
     "text": [
      "Realizando scraping en ML_join_SaleINT_FEB2024__Q1_3500...\n",
      "El proceso de scraping ha comenzado a las 12:16 del 09/02/2024\n",
      "Enlaces procesados: 50 de 500\n",
      "Enlaces procesados: 100 de 500\n",
      "Enlaces procesados: 150 de 500\n",
      "Enlaces procesados: 200 de 500\n",
      "Enlaces procesados: 250 de 500\n",
      "Enlaces procesados: 300 de 500\n",
      "Enlaces procesados: 350 de 500\n",
      "Enlaces procesados: 400 de 500\n",
      "Enlaces procesados: 450 de 500\n",
      "Enlaces procesados: 500 de 500\n"
     ]
    },
    {
     "data": {
      "text/html": [
       "<div style='background-color: #b8daba; padding: 10px; border: 1px solid #007723; border-radius: 5px;'><strong>IMBUEBLES DISPONIBLE:</strong> ¡El DataFrame de tamaño (500, 6) df_inmobiliarias de FINCA RAIZ está disponible para su análisis!</div>"
      ],
      "text/plain": [
       "<IPython.core.display.HTML object>"
      ]
     },
     "metadata": {},
     "output_type": "display_data"
    },
    {
     "name": "stderr",
     "output_type": "stream",
     "text": [
      "C:\\Users\\luisG\\GIT\\SCRAPING\\SCRAPERS\\BUILDINGS\\ML\\ML\\internal.py:290: FutureWarning: The default value of regex will change from True to False in a future version. In addition, single character regular expressions will *not* be treated as literal strings when regex=True.\n",
      "  new_df['price'] = new_df['price'].str.replace(\".\", \"\")\n",
      "C:\\Users\\luisG\\GIT\\SCRAPING\\SCRAPERS\\BUILDINGS\\ML\\ML\\internal.py:299: FutureWarning: The default value of regex will change from True to False in a future version. In addition, single character regular expressions will *not* be treated as literal strings when regex=True.\n",
      "  new_df['longitud'] = new_df['longitud'].str.replace(\".\", \",\")\n",
      "C:\\Users\\luisG\\GIT\\SCRAPING\\SCRAPERS\\BUILDINGS\\ML\\ML\\internal.py:300: FutureWarning: The default value of regex will change from True to False in a future version. In addition, single character regular expressions will *not* be treated as literal strings when regex=True.\n",
      "  new_df['latitud'] = new_df['latitud'].str.replace(\".\", \",\")\n"
     ]
    },
    {
     "name": "stdout",
     "output_type": "stream",
     "text": [
      "Realizando scraping en ML_join_SaleINT_FEB2024__Q1_4000...\n",
      "El proceso de scraping ha comenzado a las 12:51 del 09/02/2024\n",
      "Enlaces procesados: 50 de 500\n",
      "Enlaces procesados: 100 de 500\n",
      "Enlaces procesados: 150 de 500\n",
      "Enlaces procesados: 200 de 500\n",
      "Enlaces procesados: 250 de 500\n",
      "Enlaces procesados: 300 de 500\n",
      "Enlaces procesados: 350 de 500\n",
      "Enlaces procesados: 400 de 500\n",
      "Enlaces procesados: 450 de 500\n",
      "Enlaces procesados: 500 de 500\n"
     ]
    },
    {
     "data": {
      "text/html": [
       "<div style='background-color: #b8daba; padding: 10px; border: 1px solid #007723; border-radius: 5px;'><strong>IMBUEBLES DISPONIBLE:</strong> ¡El DataFrame de tamaño (500, 6) df_inmobiliarias de FINCA RAIZ está disponible para su análisis!</div>"
      ],
      "text/plain": [
       "<IPython.core.display.HTML object>"
      ]
     },
     "metadata": {},
     "output_type": "display_data"
    },
    {
     "name": "stderr",
     "output_type": "stream",
     "text": [
      "C:\\Users\\luisG\\GIT\\SCRAPING\\SCRAPERS\\BUILDINGS\\ML\\ML\\internal.py:290: FutureWarning: The default value of regex will change from True to False in a future version. In addition, single character regular expressions will *not* be treated as literal strings when regex=True.\n",
      "  new_df['price'] = new_df['price'].str.replace(\".\", \"\")\n",
      "C:\\Users\\luisG\\GIT\\SCRAPING\\SCRAPERS\\BUILDINGS\\ML\\ML\\internal.py:299: FutureWarning: The default value of regex will change from True to False in a future version. In addition, single character regular expressions will *not* be treated as literal strings when regex=True.\n",
      "  new_df['longitud'] = new_df['longitud'].str.replace(\".\", \",\")\n",
      "C:\\Users\\luisG\\GIT\\SCRAPING\\SCRAPERS\\BUILDINGS\\ML\\ML\\internal.py:300: FutureWarning: The default value of regex will change from True to False in a future version. In addition, single character regular expressions will *not* be treated as literal strings when regex=True.\n",
      "  new_df['latitud'] = new_df['latitud'].str.replace(\".\", \",\")\n"
     ]
    },
    {
     "name": "stdout",
     "output_type": "stream",
     "text": [
      "Realizando scraping en ML_join_SaleINT_FEB2024__Q1_4500...\n",
      "El proceso de scraping ha comenzado a las 13:14 del 09/02/2024\n",
      "Enlaces procesados: 50 de 500\n",
      "Enlaces procesados: 100 de 500\n",
      "Enlaces procesados: 150 de 500\n",
      "Enlaces procesados: 200 de 500\n",
      "Enlaces procesados: 250 de 500\n",
      "Enlaces procesados: 300 de 500\n",
      "Enlaces procesados: 350 de 500\n",
      "Enlaces procesados: 400 de 500\n",
      "Enlaces procesados: 450 de 500\n",
      "Enlaces procesados: 500 de 500\n"
     ]
    },
    {
     "data": {
      "text/html": [
       "<div style='background-color: #b8daba; padding: 10px; border: 1px solid #007723; border-radius: 5px;'><strong>IMBUEBLES DISPONIBLE:</strong> ¡El DataFrame de tamaño (500, 6) df_inmobiliarias de FINCA RAIZ está disponible para su análisis!</div>"
      ],
      "text/plain": [
       "<IPython.core.display.HTML object>"
      ]
     },
     "metadata": {},
     "output_type": "display_data"
    },
    {
     "name": "stderr",
     "output_type": "stream",
     "text": [
      "C:\\Users\\luisG\\GIT\\SCRAPING\\SCRAPERS\\BUILDINGS\\ML\\ML\\internal.py:290: FutureWarning: The default value of regex will change from True to False in a future version. In addition, single character regular expressions will *not* be treated as literal strings when regex=True.\n",
      "  new_df['price'] = new_df['price'].str.replace(\".\", \"\")\n",
      "C:\\Users\\luisG\\GIT\\SCRAPING\\SCRAPERS\\BUILDINGS\\ML\\ML\\internal.py:299: FutureWarning: The default value of regex will change from True to False in a future version. In addition, single character regular expressions will *not* be treated as literal strings when regex=True.\n",
      "  new_df['longitud'] = new_df['longitud'].str.replace(\".\", \",\")\n",
      "C:\\Users\\luisG\\GIT\\SCRAPING\\SCRAPERS\\BUILDINGS\\ML\\ML\\internal.py:300: FutureWarning: The default value of regex will change from True to False in a future version. In addition, single character regular expressions will *not* be treated as literal strings when regex=True.\n",
      "  new_df['latitud'] = new_df['latitud'].str.replace(\".\", \",\")\n"
     ]
    },
    {
     "name": "stdout",
     "output_type": "stream",
     "text": [
      "Realizando scraping en ML_join_SaleINT_FEB2024__Q1_5000...\n",
      "El proceso de scraping ha comenzado a las 13:34 del 09/02/2024\n",
      "Enlaces procesados: 50 de 500\n",
      "Enlaces procesados: 100 de 500\n",
      "Enlaces procesados: 150 de 500\n",
      "Enlaces procesados: 200 de 500\n",
      "Enlaces procesados: 250 de 500\n",
      "Enlaces procesados: 300 de 500\n",
      "Enlaces procesados: 350 de 500\n",
      "Enlaces procesados: 400 de 500\n",
      "Enlaces procesados: 450 de 500\n",
      "Enlaces procesados: 500 de 500\n"
     ]
    },
    {
     "data": {
      "text/html": [
       "<div style='background-color: #b8daba; padding: 10px; border: 1px solid #007723; border-radius: 5px;'><strong>IMBUEBLES DISPONIBLE:</strong> ¡El DataFrame de tamaño (500, 6) df_inmobiliarias de FINCA RAIZ está disponible para su análisis!</div>"
      ],
      "text/plain": [
       "<IPython.core.display.HTML object>"
      ]
     },
     "metadata": {},
     "output_type": "display_data"
    },
    {
     "name": "stderr",
     "output_type": "stream",
     "text": [
      "C:\\Users\\luisG\\GIT\\SCRAPING\\SCRAPERS\\BUILDINGS\\ML\\ML\\internal.py:290: FutureWarning: The default value of regex will change from True to False in a future version. In addition, single character regular expressions will *not* be treated as literal strings when regex=True.\n",
      "  new_df['price'] = new_df['price'].str.replace(\".\", \"\")\n",
      "C:\\Users\\luisG\\GIT\\SCRAPING\\SCRAPERS\\BUILDINGS\\ML\\ML\\internal.py:299: FutureWarning: The default value of regex will change from True to False in a future version. In addition, single character regular expressions will *not* be treated as literal strings when regex=True.\n",
      "  new_df['longitud'] = new_df['longitud'].str.replace(\".\", \",\")\n",
      "C:\\Users\\luisG\\GIT\\SCRAPING\\SCRAPERS\\BUILDINGS\\ML\\ML\\internal.py:300: FutureWarning: The default value of regex will change from True to False in a future version. In addition, single character regular expressions will *not* be treated as literal strings when regex=True.\n",
      "  new_df['latitud'] = new_df['latitud'].str.replace(\".\", \",\")\n"
     ]
    },
    {
     "name": "stdout",
     "output_type": "stream",
     "text": [
      "Realizando scraping en ML_join_SaleINT_FEB2024__Q1_5500...\n",
      "El proceso de scraping ha comenzado a las 13:56 del 09/02/2024\n",
      "Enlaces procesados: 50 de 500\n",
      "Enlaces procesados: 100 de 500\n",
      "Enlaces procesados: 150 de 500\n",
      "Enlaces procesados: 200 de 500\n",
      "Enlaces procesados: 250 de 500\n",
      "Enlaces procesados: 300 de 500\n",
      "Enlaces procesados: 350 de 500\n",
      "Enlaces procesados: 400 de 500\n",
      "Enlaces procesados: 450 de 500\n",
      "Enlaces procesados: 500 de 500\n"
     ]
    },
    {
     "data": {
      "text/html": [
       "<div style='background-color: #b8daba; padding: 10px; border: 1px solid #007723; border-radius: 5px;'><strong>IMBUEBLES DISPONIBLE:</strong> ¡El DataFrame de tamaño (500, 6) df_inmobiliarias de FINCA RAIZ está disponible para su análisis!</div>"
      ],
      "text/plain": [
       "<IPython.core.display.HTML object>"
      ]
     },
     "metadata": {},
     "output_type": "display_data"
    },
    {
     "name": "stderr",
     "output_type": "stream",
     "text": [
      "C:\\Users\\luisG\\GIT\\SCRAPING\\SCRAPERS\\BUILDINGS\\ML\\ML\\internal.py:290: FutureWarning: The default value of regex will change from True to False in a future version. In addition, single character regular expressions will *not* be treated as literal strings when regex=True.\n",
      "  new_df['price'] = new_df['price'].str.replace(\".\", \"\")\n",
      "C:\\Users\\luisG\\GIT\\SCRAPING\\SCRAPERS\\BUILDINGS\\ML\\ML\\internal.py:299: FutureWarning: The default value of regex will change from True to False in a future version. In addition, single character regular expressions will *not* be treated as literal strings when regex=True.\n",
      "  new_df['longitud'] = new_df['longitud'].str.replace(\".\", \",\")\n",
      "C:\\Users\\luisG\\GIT\\SCRAPING\\SCRAPERS\\BUILDINGS\\ML\\ML\\internal.py:300: FutureWarning: The default value of regex will change from True to False in a future version. In addition, single character regular expressions will *not* be treated as literal strings when regex=True.\n",
      "  new_df['latitud'] = new_df['latitud'].str.replace(\".\", \",\")\n"
     ]
    },
    {
     "name": "stdout",
     "output_type": "stream",
     "text": [
      "Realizando scraping en ML_join_SaleINT_FEB2024__Q1_6000...\n",
      "El proceso de scraping ha comenzado a las 14:15 del 09/02/2024\n",
      "Enlaces procesados: 50 de 500\n",
      "Enlaces procesados: 100 de 500\n",
      "Enlaces procesados: 150 de 500\n",
      "Enlaces procesados: 200 de 500\n",
      "Enlaces procesados: 250 de 500\n",
      "Enlaces procesados: 300 de 500\n",
      "Enlaces procesados: 350 de 500\n",
      "Enlaces procesados: 400 de 500\n",
      "Enlaces procesados: 450 de 500\n",
      "Enlaces procesados: 500 de 500\n"
     ]
    },
    {
     "data": {
      "text/html": [
       "<div style='background-color: #b8daba; padding: 10px; border: 1px solid #007723; border-radius: 5px;'><strong>IMBUEBLES DISPONIBLE:</strong> ¡El DataFrame de tamaño (500, 6) df_inmobiliarias de FINCA RAIZ está disponible para su análisis!</div>"
      ],
      "text/plain": [
       "<IPython.core.display.HTML object>"
      ]
     },
     "metadata": {},
     "output_type": "display_data"
    },
    {
     "name": "stderr",
     "output_type": "stream",
     "text": [
      "C:\\Users\\luisG\\GIT\\SCRAPING\\SCRAPERS\\BUILDINGS\\ML\\ML\\internal.py:290: FutureWarning: The default value of regex will change from True to False in a future version. In addition, single character regular expressions will *not* be treated as literal strings when regex=True.\n",
      "  new_df['price'] = new_df['price'].str.replace(\".\", \"\")\n",
      "C:\\Users\\luisG\\GIT\\SCRAPING\\SCRAPERS\\BUILDINGS\\ML\\ML\\internal.py:299: FutureWarning: The default value of regex will change from True to False in a future version. In addition, single character regular expressions will *not* be treated as literal strings when regex=True.\n",
      "  new_df['longitud'] = new_df['longitud'].str.replace(\".\", \",\")\n",
      "C:\\Users\\luisG\\GIT\\SCRAPING\\SCRAPERS\\BUILDINGS\\ML\\ML\\internal.py:300: FutureWarning: The default value of regex will change from True to False in a future version. In addition, single character regular expressions will *not* be treated as literal strings when regex=True.\n",
      "  new_df['latitud'] = new_df['latitud'].str.replace(\".\", \",\")\n"
     ]
    },
    {
     "name": "stdout",
     "output_type": "stream",
     "text": [
      "Realizando scraping en ML_join_SaleINT_FEB2024__Q1_6500...\n",
      "El proceso de scraping ha comenzado a las 14:39 del 09/02/2024\n",
      "Enlaces procesados: 50 de 500\n",
      "Enlaces procesados: 100 de 500\n",
      "Enlaces procesados: 150 de 500\n",
      "Enlaces procesados: 200 de 500\n",
      "Enlaces procesados: 250 de 500\n",
      "Enlaces procesados: 300 de 500\n",
      "Enlaces procesados: 350 de 500\n",
      "Enlaces procesados: 400 de 500\n",
      "Enlaces procesados: 450 de 500\n",
      "Enlaces procesados: 500 de 500\n"
     ]
    },
    {
     "data": {
      "text/html": [
       "<div style='background-color: #b8daba; padding: 10px; border: 1px solid #007723; border-radius: 5px;'><strong>IMBUEBLES DISPONIBLE:</strong> ¡El DataFrame de tamaño (500, 6) df_inmobiliarias de FINCA RAIZ está disponible para su análisis!</div>"
      ],
      "text/plain": [
       "<IPython.core.display.HTML object>"
      ]
     },
     "metadata": {},
     "output_type": "display_data"
    },
    {
     "name": "stderr",
     "output_type": "stream",
     "text": [
      "C:\\Users\\luisG\\GIT\\SCRAPING\\SCRAPERS\\BUILDINGS\\ML\\ML\\internal.py:290: FutureWarning: The default value of regex will change from True to False in a future version. In addition, single character regular expressions will *not* be treated as literal strings when regex=True.\n",
      "  new_df['price'] = new_df['price'].str.replace(\".\", \"\")\n",
      "C:\\Users\\luisG\\GIT\\SCRAPING\\SCRAPERS\\BUILDINGS\\ML\\ML\\internal.py:299: FutureWarning: The default value of regex will change from True to False in a future version. In addition, single character regular expressions will *not* be treated as literal strings when regex=True.\n",
      "  new_df['longitud'] = new_df['longitud'].str.replace(\".\", \",\")\n",
      "C:\\Users\\luisG\\GIT\\SCRAPING\\SCRAPERS\\BUILDINGS\\ML\\ML\\internal.py:300: FutureWarning: The default value of regex will change from True to False in a future version. In addition, single character regular expressions will *not* be treated as literal strings when regex=True.\n",
      "  new_df['latitud'] = new_df['latitud'].str.replace(\".\", \",\")\n"
     ]
    },
    {
     "name": "stdout",
     "output_type": "stream",
     "text": [
      "Realizando scraping en ML_join_SaleINT_FEB2024__Q1_7000...\n",
      "El proceso de scraping ha comenzado a las 15:13 del 09/02/2024\n",
      "Enlaces procesados: 50 de 500\n",
      "Enlaces procesados: 100 de 500\n",
      "Enlaces procesados: 150 de 500\n",
      "Enlaces procesados: 200 de 500\n",
      "Enlaces procesados: 250 de 500\n",
      "Enlaces procesados: 300 de 500\n",
      "Enlaces procesados: 350 de 500\n",
      "Enlaces procesados: 400 de 500\n",
      "Enlaces procesados: 450 de 500\n",
      "Enlaces procesados: 500 de 500\n"
     ]
    },
    {
     "data": {
      "text/html": [
       "<div style='background-color: #b8daba; padding: 10px; border: 1px solid #007723; border-radius: 5px;'><strong>IMBUEBLES DISPONIBLE:</strong> ¡El DataFrame de tamaño (500, 6) df_inmobiliarias de FINCA RAIZ está disponible para su análisis!</div>"
      ],
      "text/plain": [
       "<IPython.core.display.HTML object>"
      ]
     },
     "metadata": {},
     "output_type": "display_data"
    },
    {
     "name": "stderr",
     "output_type": "stream",
     "text": [
      "C:\\Users\\luisG\\GIT\\SCRAPING\\SCRAPERS\\BUILDINGS\\ML\\ML\\internal.py:290: FutureWarning: The default value of regex will change from True to False in a future version. In addition, single character regular expressions will *not* be treated as literal strings when regex=True.\n",
      "  new_df['price'] = new_df['price'].str.replace(\".\", \"\")\n",
      "C:\\Users\\luisG\\GIT\\SCRAPING\\SCRAPERS\\BUILDINGS\\ML\\ML\\internal.py:299: FutureWarning: The default value of regex will change from True to False in a future version. In addition, single character regular expressions will *not* be treated as literal strings when regex=True.\n",
      "  new_df['longitud'] = new_df['longitud'].str.replace(\".\", \",\")\n",
      "C:\\Users\\luisG\\GIT\\SCRAPING\\SCRAPERS\\BUILDINGS\\ML\\ML\\internal.py:300: FutureWarning: The default value of regex will change from True to False in a future version. In addition, single character regular expressions will *not* be treated as literal strings when regex=True.\n",
      "  new_df['latitud'] = new_df['latitud'].str.replace(\".\", \",\")\n"
     ]
    },
    {
     "name": "stdout",
     "output_type": "stream",
     "text": [
      "Realizando scraping en ML_join_SaleINT_FEB2024__Q1_7500...\n",
      "El proceso de scraping ha comenzado a las 15:32 del 09/02/2024\n",
      "Enlaces procesados: 50 de 500\n",
      "Enlaces procesados: 100 de 500\n",
      "Enlaces procesados: 150 de 500\n",
      "Enlaces procesados: 200 de 500\n",
      "Enlaces procesados: 250 de 500\n",
      "Enlaces procesados: 300 de 500\n",
      "Enlaces procesados: 350 de 500\n",
      "Enlaces procesados: 400 de 500\n",
      "Enlaces procesados: 450 de 500\n",
      "Enlaces procesados: 500 de 500\n"
     ]
    },
    {
     "data": {
      "text/html": [
       "<div style='background-color: #b8daba; padding: 10px; border: 1px solid #007723; border-radius: 5px;'><strong>IMBUEBLES DISPONIBLE:</strong> ¡El DataFrame de tamaño (500, 6) df_inmobiliarias de FINCA RAIZ está disponible para su análisis!</div>"
      ],
      "text/plain": [
       "<IPython.core.display.HTML object>"
      ]
     },
     "metadata": {},
     "output_type": "display_data"
    },
    {
     "name": "stderr",
     "output_type": "stream",
     "text": [
      "C:\\Users\\luisG\\GIT\\SCRAPING\\SCRAPERS\\BUILDINGS\\ML\\ML\\internal.py:290: FutureWarning: The default value of regex will change from True to False in a future version. In addition, single character regular expressions will *not* be treated as literal strings when regex=True.\n",
      "  new_df['price'] = new_df['price'].str.replace(\".\", \"\")\n",
      "C:\\Users\\luisG\\GIT\\SCRAPING\\SCRAPERS\\BUILDINGS\\ML\\ML\\internal.py:299: FutureWarning: The default value of regex will change from True to False in a future version. In addition, single character regular expressions will *not* be treated as literal strings when regex=True.\n",
      "  new_df['longitud'] = new_df['longitud'].str.replace(\".\", \",\")\n",
      "C:\\Users\\luisG\\GIT\\SCRAPING\\SCRAPERS\\BUILDINGS\\ML\\ML\\internal.py:300: FutureWarning: The default value of regex will change from True to False in a future version. In addition, single character regular expressions will *not* be treated as literal strings when regex=True.\n",
      "  new_df['latitud'] = new_df['latitud'].str.replace(\".\", \",\")\n"
     ]
    },
    {
     "name": "stdout",
     "output_type": "stream",
     "text": [
      "Realizando scraping en ML_join_SaleINT_FEB2024__Q1_8000...\n",
      "El proceso de scraping ha comenzado a las 15:52 del 09/02/2024\n",
      "Enlaces procesados: 50 de 500\n",
      "Enlaces procesados: 100 de 500\n",
      "Enlaces procesados: 150 de 500\n",
      "Enlaces procesados: 200 de 500\n",
      "Enlaces procesados: 250 de 500\n",
      "Enlaces procesados: 300 de 500\n",
      "Enlaces procesados: 350 de 500\n",
      "Enlaces procesados: 400 de 500\n",
      "Enlaces procesados: 450 de 500\n",
      "Enlaces procesados: 500 de 500\n"
     ]
    },
    {
     "data": {
      "text/html": [
       "<div style='background-color: #b8daba; padding: 10px; border: 1px solid #007723; border-radius: 5px;'><strong>IMBUEBLES DISPONIBLE:</strong> ¡El DataFrame de tamaño (500, 6) df_inmobiliarias de FINCA RAIZ está disponible para su análisis!</div>"
      ],
      "text/plain": [
       "<IPython.core.display.HTML object>"
      ]
     },
     "metadata": {},
     "output_type": "display_data"
    },
    {
     "name": "stderr",
     "output_type": "stream",
     "text": [
      "C:\\Users\\luisG\\GIT\\SCRAPING\\SCRAPERS\\BUILDINGS\\ML\\ML\\internal.py:290: FutureWarning: The default value of regex will change from True to False in a future version. In addition, single character regular expressions will *not* be treated as literal strings when regex=True.\n",
      "  new_df['price'] = new_df['price'].str.replace(\".\", \"\")\n",
      "C:\\Users\\luisG\\GIT\\SCRAPING\\SCRAPERS\\BUILDINGS\\ML\\ML\\internal.py:299: FutureWarning: The default value of regex will change from True to False in a future version. In addition, single character regular expressions will *not* be treated as literal strings when regex=True.\n",
      "  new_df['longitud'] = new_df['longitud'].str.replace(\".\", \",\")\n",
      "C:\\Users\\luisG\\GIT\\SCRAPING\\SCRAPERS\\BUILDINGS\\ML\\ML\\internal.py:300: FutureWarning: The default value of regex will change from True to False in a future version. In addition, single character regular expressions will *not* be treated as literal strings when regex=True.\n",
      "  new_df['latitud'] = new_df['latitud'].str.replace(\".\", \",\")\n"
     ]
    },
    {
     "name": "stdout",
     "output_type": "stream",
     "text": [
      "Realizando scraping en ML_join_SaleINT_FEB2024__Q1_8500...\n",
      "El proceso de scraping ha comenzado a las 16:07 del 09/02/2024\n",
      "Enlaces procesados: 50 de 500\n",
      "Enlaces procesados: 100 de 500\n",
      "Enlaces procesados: 150 de 500\n",
      "Enlaces procesados: 200 de 500\n",
      "Enlaces procesados: 250 de 500\n",
      "Enlaces procesados: 300 de 500\n",
      "Enlaces procesados: 350 de 500\n",
      "Enlaces procesados: 400 de 500\n",
      "Enlaces procesados: 450 de 500\n",
      "Enlaces procesados: 500 de 500\n"
     ]
    },
    {
     "data": {
      "text/html": [
       "<div style='background-color: #b8daba; padding: 10px; border: 1px solid #007723; border-radius: 5px;'><strong>IMBUEBLES DISPONIBLE:</strong> ¡El DataFrame de tamaño (500, 6) df_inmobiliarias de FINCA RAIZ está disponible para su análisis!</div>"
      ],
      "text/plain": [
       "<IPython.core.display.HTML object>"
      ]
     },
     "metadata": {},
     "output_type": "display_data"
    },
    {
     "name": "stderr",
     "output_type": "stream",
     "text": [
      "C:\\Users\\luisG\\GIT\\SCRAPING\\SCRAPERS\\BUILDINGS\\ML\\ML\\internal.py:290: FutureWarning: The default value of regex will change from True to False in a future version. In addition, single character regular expressions will *not* be treated as literal strings when regex=True.\n",
      "  new_df['price'] = new_df['price'].str.replace(\".\", \"\")\n",
      "C:\\Users\\luisG\\GIT\\SCRAPING\\SCRAPERS\\BUILDINGS\\ML\\ML\\internal.py:299: FutureWarning: The default value of regex will change from True to False in a future version. In addition, single character regular expressions will *not* be treated as literal strings when regex=True.\n",
      "  new_df['longitud'] = new_df['longitud'].str.replace(\".\", \",\")\n",
      "C:\\Users\\luisG\\GIT\\SCRAPING\\SCRAPERS\\BUILDINGS\\ML\\ML\\internal.py:300: FutureWarning: The default value of regex will change from True to False in a future version. In addition, single character regular expressions will *not* be treated as literal strings when regex=True.\n",
      "  new_df['latitud'] = new_df['latitud'].str.replace(\".\", \",\")\n"
     ]
    },
    {
     "name": "stdout",
     "output_type": "stream",
     "text": [
      "Realizando scraping en ML_join_SaleINT_FEB2024__Q1_9000...\n",
      "El proceso de scraping ha comenzado a las 16:28 del 09/02/2024\n",
      "Enlaces procesados: 50 de 500\n",
      "Enlaces procesados: 100 de 500\n",
      "Enlaces procesados: 150 de 500\n",
      "Enlaces procesados: 200 de 500\n",
      "Enlaces procesados: 250 de 500\n",
      "Enlaces procesados: 300 de 500\n",
      "Enlaces procesados: 350 de 500\n",
      "Enlaces procesados: 400 de 500\n",
      "Enlaces procesados: 450 de 500\n",
      "Enlaces procesados: 500 de 500\n"
     ]
    },
    {
     "data": {
      "text/html": [
       "<div style='background-color: #b8daba; padding: 10px; border: 1px solid #007723; border-radius: 5px;'><strong>IMBUEBLES DISPONIBLE:</strong> ¡El DataFrame de tamaño (500, 6) df_inmobiliarias de FINCA RAIZ está disponible para su análisis!</div>"
      ],
      "text/plain": [
       "<IPython.core.display.HTML object>"
      ]
     },
     "metadata": {},
     "output_type": "display_data"
    },
    {
     "name": "stderr",
     "output_type": "stream",
     "text": [
      "C:\\Users\\luisG\\GIT\\SCRAPING\\SCRAPERS\\BUILDINGS\\ML\\ML\\internal.py:290: FutureWarning: The default value of regex will change from True to False in a future version. In addition, single character regular expressions will *not* be treated as literal strings when regex=True.\n",
      "  new_df['price'] = new_df['price'].str.replace(\".\", \"\")\n",
      "C:\\Users\\luisG\\GIT\\SCRAPING\\SCRAPERS\\BUILDINGS\\ML\\ML\\internal.py:299: FutureWarning: The default value of regex will change from True to False in a future version. In addition, single character regular expressions will *not* be treated as literal strings when regex=True.\n",
      "  new_df['longitud'] = new_df['longitud'].str.replace(\".\", \",\")\n",
      "C:\\Users\\luisG\\GIT\\SCRAPING\\SCRAPERS\\BUILDINGS\\ML\\ML\\internal.py:300: FutureWarning: The default value of regex will change from True to False in a future version. In addition, single character regular expressions will *not* be treated as literal strings when regex=True.\n",
      "  new_df['latitud'] = new_df['latitud'].str.replace(\".\", \",\")\n"
     ]
    },
    {
     "name": "stdout",
     "output_type": "stream",
     "text": [
      "Realizando scraping en ML_join_SaleINT_FEB2024__Q1_9500...\n",
      "El proceso de scraping ha comenzado a las 16:49 del 09/02/2024\n",
      "Enlaces procesados: 50 de 500\n",
      "Enlaces procesados: 100 de 500\n",
      "Enlaces procesados: 150 de 500\n",
      "Enlaces procesados: 200 de 500\n",
      "Enlaces procesados: 250 de 500\n",
      "Enlaces procesados: 300 de 500\n",
      "Enlaces procesados: 350 de 500\n",
      "Enlaces procesados: 400 de 500\n",
      "Enlaces procesados: 450 de 500\n",
      "Enlaces procesados: 500 de 500\n"
     ]
    },
    {
     "data": {
      "text/html": [
       "<div style='background-color: #b8daba; padding: 10px; border: 1px solid #007723; border-radius: 5px;'><strong>IMBUEBLES DISPONIBLE:</strong> ¡El DataFrame de tamaño (500, 6) df_inmobiliarias de FINCA RAIZ está disponible para su análisis!</div>"
      ],
      "text/plain": [
       "<IPython.core.display.HTML object>"
      ]
     },
     "metadata": {},
     "output_type": "display_data"
    },
    {
     "name": "stderr",
     "output_type": "stream",
     "text": [
      "C:\\Users\\luisG\\GIT\\SCRAPING\\SCRAPERS\\BUILDINGS\\ML\\ML\\internal.py:290: FutureWarning: The default value of regex will change from True to False in a future version. In addition, single character regular expressions will *not* be treated as literal strings when regex=True.\n",
      "  new_df['price'] = new_df['price'].str.replace(\".\", \"\")\n",
      "C:\\Users\\luisG\\GIT\\SCRAPING\\SCRAPERS\\BUILDINGS\\ML\\ML\\internal.py:299: FutureWarning: The default value of regex will change from True to False in a future version. In addition, single character regular expressions will *not* be treated as literal strings when regex=True.\n",
      "  new_df['longitud'] = new_df['longitud'].str.replace(\".\", \",\")\n",
      "C:\\Users\\luisG\\GIT\\SCRAPING\\SCRAPERS\\BUILDINGS\\ML\\ML\\internal.py:300: FutureWarning: The default value of regex will change from True to False in a future version. In addition, single character regular expressions will *not* be treated as literal strings when regex=True.\n",
      "  new_df['latitud'] = new_df['latitud'].str.replace(\".\", \",\")\n"
     ]
    },
    {
     "name": "stdout",
     "output_type": "stream",
     "text": [
      "Realizando scraping en ML_join_SaleINT_FEB2024__Q1_10000...\n",
      "El proceso de scraping ha comenzado a las 17:16 del 09/02/2024\n",
      "Enlaces procesados: 50 de 500\n",
      "Enlaces procesados: 100 de 500\n",
      "Enlaces procesados: 150 de 500\n",
      "Enlaces procesados: 200 de 500\n",
      "Enlaces procesados: 250 de 500\n",
      "Enlaces procesados: 300 de 500\n",
      "Enlaces procesados: 350 de 500\n",
      "Enlaces procesados: 400 de 500\n",
      "Enlaces procesados: 450 de 500\n",
      "Enlaces procesados: 500 de 500\n"
     ]
    },
    {
     "data": {
      "text/html": [
       "<div style='background-color: #b8daba; padding: 10px; border: 1px solid #007723; border-radius: 5px;'><strong>IMBUEBLES DISPONIBLE:</strong> ¡El DataFrame de tamaño (500, 6) df_inmobiliarias de FINCA RAIZ está disponible para su análisis!</div>"
      ],
      "text/plain": [
       "<IPython.core.display.HTML object>"
      ]
     },
     "metadata": {},
     "output_type": "display_data"
    },
    {
     "name": "stderr",
     "output_type": "stream",
     "text": [
      "C:\\Users\\luisG\\GIT\\SCRAPING\\SCRAPERS\\BUILDINGS\\ML\\ML\\internal.py:290: FutureWarning: The default value of regex will change from True to False in a future version. In addition, single character regular expressions will *not* be treated as literal strings when regex=True.\n",
      "  new_df['price'] = new_df['price'].str.replace(\".\", \"\")\n",
      "C:\\Users\\luisG\\GIT\\SCRAPING\\SCRAPERS\\BUILDINGS\\ML\\ML\\internal.py:299: FutureWarning: The default value of regex will change from True to False in a future version. In addition, single character regular expressions will *not* be treated as literal strings when regex=True.\n",
      "  new_df['longitud'] = new_df['longitud'].str.replace(\".\", \",\")\n",
      "C:\\Users\\luisG\\GIT\\SCRAPING\\SCRAPERS\\BUILDINGS\\ML\\ML\\internal.py:300: FutureWarning: The default value of regex will change from True to False in a future version. In addition, single character regular expressions will *not* be treated as literal strings when regex=True.\n",
      "  new_df['latitud'] = new_df['latitud'].str.replace(\".\", \",\")\n"
     ]
    },
    {
     "name": "stdout",
     "output_type": "stream",
     "text": [
      "Realizando scraping en ML_join_SaleINT_FEB2024__Q1_10500...\n",
      "El proceso de scraping ha comenzado a las 17:44 del 09/02/2024\n",
      "Enlaces procesados: 50 de 500\n",
      "Enlaces procesados: 100 de 500\n",
      "Enlaces procesados: 150 de 500\n",
      "Enlaces procesados: 200 de 500\n",
      "Enlaces procesados: 250 de 500\n",
      "Enlaces procesados: 300 de 500\n",
      "Enlaces procesados: 350 de 500\n",
      "Enlaces procesados: 400 de 500\n",
      "Enlaces procesados: 450 de 500\n",
      "Enlaces procesados: 500 de 500\n"
     ]
    },
    {
     "data": {
      "text/html": [
       "<div style='background-color: #b8daba; padding: 10px; border: 1px solid #007723; border-radius: 5px;'><strong>IMBUEBLES DISPONIBLE:</strong> ¡El DataFrame de tamaño (500, 6) df_inmobiliarias de FINCA RAIZ está disponible para su análisis!</div>"
      ],
      "text/plain": [
       "<IPython.core.display.HTML object>"
      ]
     },
     "metadata": {},
     "output_type": "display_data"
    },
    {
     "name": "stderr",
     "output_type": "stream",
     "text": [
      "C:\\Users\\luisG\\GIT\\SCRAPING\\SCRAPERS\\BUILDINGS\\ML\\ML\\internal.py:290: FutureWarning: The default value of regex will change from True to False in a future version. In addition, single character regular expressions will *not* be treated as literal strings when regex=True.\n",
      "  new_df['price'] = new_df['price'].str.replace(\".\", \"\")\n",
      "C:\\Users\\luisG\\GIT\\SCRAPING\\SCRAPERS\\BUILDINGS\\ML\\ML\\internal.py:299: FutureWarning: The default value of regex will change from True to False in a future version. In addition, single character regular expressions will *not* be treated as literal strings when regex=True.\n",
      "  new_df['longitud'] = new_df['longitud'].str.replace(\".\", \",\")\n",
      "C:\\Users\\luisG\\GIT\\SCRAPING\\SCRAPERS\\BUILDINGS\\ML\\ML\\internal.py:300: FutureWarning: The default value of regex will change from True to False in a future version. In addition, single character regular expressions will *not* be treated as literal strings when regex=True.\n",
      "  new_df['latitud'] = new_df['latitud'].str.replace(\".\", \",\")\n"
     ]
    },
    {
     "name": "stdout",
     "output_type": "stream",
     "text": [
      "Realizando scraping en ML_join_SaleINT_FEB2024__Q1_11000...\n",
      "El proceso de scraping ha comenzado a las 18:14 del 09/02/2024\n",
      "Enlaces procesados: 50 de 500\n",
      "Enlaces procesados: 100 de 500\n",
      "Enlaces procesados: 150 de 500\n",
      "Enlaces procesados: 200 de 500\n",
      "Enlaces procesados: 250 de 500\n",
      "Enlaces procesados: 300 de 500\n",
      "Enlaces procesados: 350 de 500\n",
      "Se produjo un error al cargar el enlace: https://apartamento.mercadolibre.com.co/MCO-2200910678-venta-de-apartamento-de-146mts2-en-santa-teresita-oeste-cali-10995-_JM#position=29&amp.search_layout=grid&amp.type=item&amp.tracking_id=b85ca91b-c06c-4464-9b6f-7d06713c6e19\n",
      "Excepción: Message: disconnected: not connected to DevTools\n",
      "  (failed to check if window was closed: disconnected: not connected to DevTools)\n",
      "  (Session info: headless chrome=120.0.6099.217)\n",
      "Stacktrace:\n",
      "\tGetHandleVerifier [0x00007FF7F2B482B2+55298]\n",
      "\t(No symbol) [0x00007FF7F2AB5E02]\n",
      "\t(No symbol) [0x00007FF7F29705AB]\n",
      "\t(No symbol) [0x00007FF7F295E19B]\n",
      "\t(No symbol) [0x00007FF7F295DDF0]\n",
      "\t(No symbol) [0x00007FF7F29724A1]\n",
      "\t(No symbol) [0x00007FF7F29EA18F]\n",
      "\t(No symbol) [0x00007FF7F29D1E83]\n",
      "\t(No symbol) [0x00007FF7F29A670A]\n",
      "\t(No symbol) [0x00007FF7F29A7964]\n",
      "\tGetHandleVerifier [0x00007FF7F2EC0AAB+3694587]\n",
      "\tGetHandleVerifier [0x00007FF7F2F1728E+4048862]\n",
      "\tGetHandleVerifier [0x00007FF7F2F0F173+4015811]\n",
      "\tGetHandleVerifier [0x00007FF7F2BE47D6+695590]\n",
      "\t(No symbol) [0x00007FF7F2AC0CE8]\n",
      "\t(No symbol) [0x00007FF7F2ABCF34]\n",
      "\t(No symbol) [0x00007FF7F2ABD062]\n",
      "\t(No symbol) [0x00007FF7F2AAD3A3]\n",
      "\tBaseThreadInitThunk [0x00007FFD6035257D+29]\n",
      "\tRtlUserThreadStart [0x00007FFD618EAA58+40]\n",
      "\n",
      "Reiniciando el driver y continuando con el próximo enlace...\n",
      "Enlaces procesados: 400 de 500\n",
      "Enlaces procesados: 450 de 500\n",
      "Enlaces procesados: 500 de 500\n"
     ]
    },
    {
     "data": {
      "text/html": [
       "<div style='background-color: #b8daba; padding: 10px; border: 1px solid #007723; border-radius: 5px;'><strong>IMBUEBLES DISPONIBLE:</strong> ¡El DataFrame de tamaño (500, 6) df_inmobiliarias de FINCA RAIZ está disponible para su análisis!</div>"
      ],
      "text/plain": [
       "<IPython.core.display.HTML object>"
      ]
     },
     "metadata": {},
     "output_type": "display_data"
    },
    {
     "name": "stderr",
     "output_type": "stream",
     "text": [
      "C:\\Users\\luisG\\GIT\\SCRAPING\\SCRAPERS\\BUILDINGS\\ML\\ML\\internal.py:290: FutureWarning: The default value of regex will change from True to False in a future version. In addition, single character regular expressions will *not* be treated as literal strings when regex=True.\n",
      "  new_df['price'] = new_df['price'].str.replace(\".\", \"\")\n",
      "C:\\Users\\luisG\\GIT\\SCRAPING\\SCRAPERS\\BUILDINGS\\ML\\ML\\internal.py:299: FutureWarning: The default value of regex will change from True to False in a future version. In addition, single character regular expressions will *not* be treated as literal strings when regex=True.\n",
      "  new_df['longitud'] = new_df['longitud'].str.replace(\".\", \",\")\n",
      "C:\\Users\\luisG\\GIT\\SCRAPING\\SCRAPERS\\BUILDINGS\\ML\\ML\\internal.py:300: FutureWarning: The default value of regex will change from True to False in a future version. In addition, single character regular expressions will *not* be treated as literal strings when regex=True.\n",
      "  new_df['latitud'] = new_df['latitud'].str.replace(\".\", \",\")\n"
     ]
    },
    {
     "name": "stdout",
     "output_type": "stream",
     "text": [
      "Realizando scraping en ML_join_SaleINT_FEB2024__Q1_11500...\n",
      "El proceso de scraping ha comenzado a las 18:47 del 09/02/2024\n",
      "Enlaces procesados: 50 de 500\n",
      "Enlaces procesados: 100 de 500\n",
      "Enlaces procesados: 150 de 500\n",
      "Enlaces procesados: 200 de 500\n",
      "Enlaces procesados: 250 de 500\n",
      "Enlaces procesados: 300 de 500\n",
      "Enlaces procesados: 350 de 500\n",
      "Enlaces procesados: 400 de 500\n",
      "Enlaces procesados: 450 de 500\n",
      "Enlaces procesados: 500 de 500\n"
     ]
    },
    {
     "data": {
      "text/html": [
       "<div style='background-color: #b8daba; padding: 10px; border: 1px solid #007723; border-radius: 5px;'><strong>IMBUEBLES DISPONIBLE:</strong> ¡El DataFrame de tamaño (500, 6) df_inmobiliarias de FINCA RAIZ está disponible para su análisis!</div>"
      ],
      "text/plain": [
       "<IPython.core.display.HTML object>"
      ]
     },
     "metadata": {},
     "output_type": "display_data"
    },
    {
     "name": "stderr",
     "output_type": "stream",
     "text": [
      "C:\\Users\\luisG\\GIT\\SCRAPING\\SCRAPERS\\BUILDINGS\\ML\\ML\\internal.py:290: FutureWarning: The default value of regex will change from True to False in a future version. In addition, single character regular expressions will *not* be treated as literal strings when regex=True.\n",
      "  new_df['price'] = new_df['price'].str.replace(\".\", \"\")\n",
      "C:\\Users\\luisG\\GIT\\SCRAPING\\SCRAPERS\\BUILDINGS\\ML\\ML\\internal.py:299: FutureWarning: The default value of regex will change from True to False in a future version. In addition, single character regular expressions will *not* be treated as literal strings when regex=True.\n",
      "  new_df['longitud'] = new_df['longitud'].str.replace(\".\", \",\")\n",
      "C:\\Users\\luisG\\GIT\\SCRAPING\\SCRAPERS\\BUILDINGS\\ML\\ML\\internal.py:300: FutureWarning: The default value of regex will change from True to False in a future version. In addition, single character regular expressions will *not* be treated as literal strings when regex=True.\n",
      "  new_df['latitud'] = new_df['latitud'].str.replace(\".\", \",\")\n"
     ]
    },
    {
     "name": "stdout",
     "output_type": "stream",
     "text": [
      "Realizando scraping en ML_join_SaleINT_FEB2024__Q1_12000...\n",
      "El proceso de scraping ha comenzado a las 19:05 del 09/02/2024\n",
      "Enlaces procesados: 50 de 500\n",
      "Enlaces procesados: 100 de 500\n",
      "Enlaces procesados: 150 de 500\n",
      "Enlaces procesados: 200 de 500\n",
      "Enlaces procesados: 250 de 500\n",
      "Enlaces procesados: 300 de 500\n",
      "Enlaces procesados: 350 de 500\n",
      "Enlaces procesados: 400 de 500\n",
      "Enlaces procesados: 450 de 500\n",
      "Enlaces procesados: 500 de 500\n"
     ]
    },
    {
     "data": {
      "text/html": [
       "<div style='background-color: #b8daba; padding: 10px; border: 1px solid #007723; border-radius: 5px;'><strong>IMBUEBLES DISPONIBLE:</strong> ¡El DataFrame de tamaño (500, 6) df_inmobiliarias de FINCA RAIZ está disponible para su análisis!</div>"
      ],
      "text/plain": [
       "<IPython.core.display.HTML object>"
      ]
     },
     "metadata": {},
     "output_type": "display_data"
    },
    {
     "name": "stderr",
     "output_type": "stream",
     "text": [
      "C:\\Users\\luisG\\GIT\\SCRAPING\\SCRAPERS\\BUILDINGS\\ML\\ML\\internal.py:290: FutureWarning: The default value of regex will change from True to False in a future version. In addition, single character regular expressions will *not* be treated as literal strings when regex=True.\n",
      "  new_df['price'] = new_df['price'].str.replace(\".\", \"\")\n",
      "C:\\Users\\luisG\\GIT\\SCRAPING\\SCRAPERS\\BUILDINGS\\ML\\ML\\internal.py:299: FutureWarning: The default value of regex will change from True to False in a future version. In addition, single character regular expressions will *not* be treated as literal strings when regex=True.\n",
      "  new_df['longitud'] = new_df['longitud'].str.replace(\".\", \",\")\n",
      "C:\\Users\\luisG\\GIT\\SCRAPING\\SCRAPERS\\BUILDINGS\\ML\\ML\\internal.py:300: FutureWarning: The default value of regex will change from True to False in a future version. In addition, single character regular expressions will *not* be treated as literal strings when regex=True.\n",
      "  new_df['latitud'] = new_df['latitud'].str.replace(\".\", \",\")\n"
     ]
    },
    {
     "name": "stdout",
     "output_type": "stream",
     "text": [
      "Realizando scraping en ML_join_SaleINT_FEB2024__Q1_12500...\n",
      "El proceso de scraping ha comenzado a las 19:21 del 09/02/2024\n",
      "Enlaces procesados: 50 de 500\n",
      "Enlaces procesados: 100 de 500\n",
      "Enlaces procesados: 150 de 500\n",
      "Enlaces procesados: 200 de 500\n",
      "Enlaces procesados: 250 de 500\n",
      "Enlaces procesados: 300 de 500\n",
      "Enlaces procesados: 350 de 500\n",
      "Enlaces procesados: 400 de 500\n",
      "Enlaces procesados: 450 de 500\n",
      "Enlaces procesados: 500 de 500\n"
     ]
    },
    {
     "data": {
      "text/html": [
       "<div style='background-color: #b8daba; padding: 10px; border: 1px solid #007723; border-radius: 5px;'><strong>IMBUEBLES DISPONIBLE:</strong> ¡El DataFrame de tamaño (500, 6) df_inmobiliarias de FINCA RAIZ está disponible para su análisis!</div>"
      ],
      "text/plain": [
       "<IPython.core.display.HTML object>"
      ]
     },
     "metadata": {},
     "output_type": "display_data"
    },
    {
     "name": "stderr",
     "output_type": "stream",
     "text": [
      "C:\\Users\\luisG\\GIT\\SCRAPING\\SCRAPERS\\BUILDINGS\\ML\\ML\\internal.py:290: FutureWarning: The default value of regex will change from True to False in a future version. In addition, single character regular expressions will *not* be treated as literal strings when regex=True.\n",
      "  new_df['price'] = new_df['price'].str.replace(\".\", \"\")\n",
      "C:\\Users\\luisG\\GIT\\SCRAPING\\SCRAPERS\\BUILDINGS\\ML\\ML\\internal.py:299: FutureWarning: The default value of regex will change from True to False in a future version. In addition, single character regular expressions will *not* be treated as literal strings when regex=True.\n",
      "  new_df['longitud'] = new_df['longitud'].str.replace(\".\", \",\")\n",
      "C:\\Users\\luisG\\GIT\\SCRAPING\\SCRAPERS\\BUILDINGS\\ML\\ML\\internal.py:300: FutureWarning: The default value of regex will change from True to False in a future version. In addition, single character regular expressions will *not* be treated as literal strings when regex=True.\n",
      "  new_df['latitud'] = new_df['latitud'].str.replace(\".\", \",\")\n"
     ]
    },
    {
     "name": "stdout",
     "output_type": "stream",
     "text": [
      "Realizando scraping en ML_join_SaleINT_FEB2024__Q1_13000...\n",
      "El proceso de scraping ha comenzado a las 19:52 del 09/02/2024\n",
      "Enlaces procesados: 50 de 500\n",
      "Enlaces procesados: 100 de 500\n",
      "Enlaces procesados: 150 de 500\n",
      "Enlaces procesados: 200 de 500\n",
      "Enlaces procesados: 250 de 500\n",
      "Enlaces procesados: 300 de 500\n",
      "Enlaces procesados: 350 de 500\n",
      "Enlaces procesados: 400 de 500\n",
      "Enlaces procesados: 450 de 500\n",
      "Enlaces procesados: 500 de 500\n"
     ]
    },
    {
     "data": {
      "text/html": [
       "<div style='background-color: #b8daba; padding: 10px; border: 1px solid #007723; border-radius: 5px;'><strong>IMBUEBLES DISPONIBLE:</strong> ¡El DataFrame de tamaño (500, 6) df_inmobiliarias de FINCA RAIZ está disponible para su análisis!</div>"
      ],
      "text/plain": [
       "<IPython.core.display.HTML object>"
      ]
     },
     "metadata": {},
     "output_type": "display_data"
    },
    {
     "name": "stderr",
     "output_type": "stream",
     "text": [
      "C:\\Users\\luisG\\GIT\\SCRAPING\\SCRAPERS\\BUILDINGS\\ML\\ML\\internal.py:290: FutureWarning: The default value of regex will change from True to False in a future version. In addition, single character regular expressions will *not* be treated as literal strings when regex=True.\n",
      "  new_df['price'] = new_df['price'].str.replace(\".\", \"\")\n",
      "C:\\Users\\luisG\\GIT\\SCRAPING\\SCRAPERS\\BUILDINGS\\ML\\ML\\internal.py:299: FutureWarning: The default value of regex will change from True to False in a future version. In addition, single character regular expressions will *not* be treated as literal strings when regex=True.\n",
      "  new_df['longitud'] = new_df['longitud'].str.replace(\".\", \",\")\n",
      "C:\\Users\\luisG\\GIT\\SCRAPING\\SCRAPERS\\BUILDINGS\\ML\\ML\\internal.py:300: FutureWarning: The default value of regex will change from True to False in a future version. In addition, single character regular expressions will *not* be treated as literal strings when regex=True.\n",
      "  new_df['latitud'] = new_df['latitud'].str.replace(\".\", \",\")\n"
     ]
    },
    {
     "name": "stdout",
     "output_type": "stream",
     "text": [
      "Realizando scraping en ML_join_SaleINT_FEB2024__Q1_13500...\n",
      "El proceso de scraping ha comenzado a las 20:21 del 09/02/2024\n",
      "Enlaces procesados: 50 de 500\n",
      "Enlaces procesados: 100 de 500\n",
      "Enlaces procesados: 150 de 500\n",
      "Enlaces procesados: 200 de 500\n",
      "Enlaces procesados: 250 de 500\n",
      "Enlaces procesados: 300 de 500\n",
      "Enlaces procesados: 350 de 500\n",
      "Enlaces procesados: 400 de 500\n",
      "Enlaces procesados: 450 de 500\n",
      "Enlaces procesados: 500 de 500\n"
     ]
    },
    {
     "data": {
      "text/html": [
       "<div style='background-color: #b8daba; padding: 10px; border: 1px solid #007723; border-radius: 5px;'><strong>IMBUEBLES DISPONIBLE:</strong> ¡El DataFrame de tamaño (500, 6) df_inmobiliarias de FINCA RAIZ está disponible para su análisis!</div>"
      ],
      "text/plain": [
       "<IPython.core.display.HTML object>"
      ]
     },
     "metadata": {},
     "output_type": "display_data"
    },
    {
     "name": "stderr",
     "output_type": "stream",
     "text": [
      "C:\\Users\\luisG\\GIT\\SCRAPING\\SCRAPERS\\BUILDINGS\\ML\\ML\\internal.py:290: FutureWarning: The default value of regex will change from True to False in a future version. In addition, single character regular expressions will *not* be treated as literal strings when regex=True.\n",
      "  new_df['price'] = new_df['price'].str.replace(\".\", \"\")\n",
      "C:\\Users\\luisG\\GIT\\SCRAPING\\SCRAPERS\\BUILDINGS\\ML\\ML\\internal.py:299: FutureWarning: The default value of regex will change from True to False in a future version. In addition, single character regular expressions will *not* be treated as literal strings when regex=True.\n",
      "  new_df['longitud'] = new_df['longitud'].str.replace(\".\", \",\")\n",
      "C:\\Users\\luisG\\GIT\\SCRAPING\\SCRAPERS\\BUILDINGS\\ML\\ML\\internal.py:300: FutureWarning: The default value of regex will change from True to False in a future version. In addition, single character regular expressions will *not* be treated as literal strings when regex=True.\n",
      "  new_df['latitud'] = new_df['latitud'].str.replace(\".\", \",\")\n"
     ]
    },
    {
     "name": "stdout",
     "output_type": "stream",
     "text": [
      "Realizando scraping en ML_join_SaleINT_FEB2024__Q1_14000...\n",
      "El proceso de scraping ha comenzado a las 20:53 del 09/02/2024\n",
      "Enlaces procesados: 50 de 500\n",
      "Enlaces procesados: 100 de 500\n",
      "Enlaces procesados: 150 de 500\n",
      "Enlaces procesados: 200 de 500\n",
      "Enlaces procesados: 250 de 500\n",
      "Enlaces procesados: 300 de 500\n",
      "Enlaces procesados: 350 de 500\n",
      "Enlaces procesados: 400 de 500\n",
      "Enlaces procesados: 450 de 500\n",
      "Enlaces procesados: 500 de 500\n"
     ]
    },
    {
     "data": {
      "text/html": [
       "<div style='background-color: #b8daba; padding: 10px; border: 1px solid #007723; border-radius: 5px;'><strong>IMBUEBLES DISPONIBLE:</strong> ¡El DataFrame de tamaño (500, 6) df_inmobiliarias de FINCA RAIZ está disponible para su análisis!</div>"
      ],
      "text/plain": [
       "<IPython.core.display.HTML object>"
      ]
     },
     "metadata": {},
     "output_type": "display_data"
    },
    {
     "name": "stderr",
     "output_type": "stream",
     "text": [
      "C:\\Users\\luisG\\GIT\\SCRAPING\\SCRAPERS\\BUILDINGS\\ML\\ML\\internal.py:290: FutureWarning: The default value of regex will change from True to False in a future version. In addition, single character regular expressions will *not* be treated as literal strings when regex=True.\n",
      "  new_df['price'] = new_df['price'].str.replace(\".\", \"\")\n",
      "C:\\Users\\luisG\\GIT\\SCRAPING\\SCRAPERS\\BUILDINGS\\ML\\ML\\internal.py:299: FutureWarning: The default value of regex will change from True to False in a future version. In addition, single character regular expressions will *not* be treated as literal strings when regex=True.\n",
      "  new_df['longitud'] = new_df['longitud'].str.replace(\".\", \",\")\n",
      "C:\\Users\\luisG\\GIT\\SCRAPING\\SCRAPERS\\BUILDINGS\\ML\\ML\\internal.py:300: FutureWarning: The default value of regex will change from True to False in a future version. In addition, single character regular expressions will *not* be treated as literal strings when regex=True.\n",
      "  new_df['latitud'] = new_df['latitud'].str.replace(\".\", \",\")\n"
     ]
    },
    {
     "name": "stdout",
     "output_type": "stream",
     "text": [
      "Realizando scraping en ML_join_SaleINT_FEB2024__Q1_14500...\n",
      "El proceso de scraping ha comenzado a las 21:09 del 09/02/2024\n",
      "Enlaces procesados: 50 de 500\n",
      "Enlaces procesados: 100 de 500\n",
      "Enlaces procesados: 150 de 500\n",
      "Enlaces procesados: 200 de 500\n",
      "Enlaces procesados: 250 de 500\n",
      "Enlaces procesados: 300 de 500\n",
      "Enlaces procesados: 350 de 500\n",
      "Enlaces procesados: 400 de 500\n",
      "Enlaces procesados: 450 de 500\n",
      "Enlaces procesados: 500 de 500\n"
     ]
    },
    {
     "data": {
      "text/html": [
       "<div style='background-color: #b8daba; padding: 10px; border: 1px solid #007723; border-radius: 5px;'><strong>IMBUEBLES DISPONIBLE:</strong> ¡El DataFrame de tamaño (500, 6) df_inmobiliarias de FINCA RAIZ está disponible para su análisis!</div>"
      ],
      "text/plain": [
       "<IPython.core.display.HTML object>"
      ]
     },
     "metadata": {},
     "output_type": "display_data"
    },
    {
     "name": "stderr",
     "output_type": "stream",
     "text": [
      "C:\\Users\\luisG\\GIT\\SCRAPING\\SCRAPERS\\BUILDINGS\\ML\\ML\\internal.py:290: FutureWarning: The default value of regex will change from True to False in a future version. In addition, single character regular expressions will *not* be treated as literal strings when regex=True.\n",
      "  new_df['price'] = new_df['price'].str.replace(\".\", \"\")\n",
      "C:\\Users\\luisG\\GIT\\SCRAPING\\SCRAPERS\\BUILDINGS\\ML\\ML\\internal.py:299: FutureWarning: The default value of regex will change from True to False in a future version. In addition, single character regular expressions will *not* be treated as literal strings when regex=True.\n",
      "  new_df['longitud'] = new_df['longitud'].str.replace(\".\", \",\")\n",
      "C:\\Users\\luisG\\GIT\\SCRAPING\\SCRAPERS\\BUILDINGS\\ML\\ML\\internal.py:300: FutureWarning: The default value of regex will change from True to False in a future version. In addition, single character regular expressions will *not* be treated as literal strings when regex=True.\n",
      "  new_df['latitud'] = new_df['latitud'].str.replace(\".\", \",\")\n"
     ]
    },
    {
     "name": "stdout",
     "output_type": "stream",
     "text": [
      "Realizando scraping en ML_join_SaleINT_FEB2024__Q1_15000...\n",
      "El proceso de scraping ha comenzado a las 21:36 del 09/02/2024\n",
      "Enlaces procesados: 50 de 500\n",
      "Enlaces procesados: 100 de 500\n",
      "Enlaces procesados: 150 de 500\n",
      "Enlaces procesados: 200 de 500\n",
      "Enlaces procesados: 250 de 500\n",
      "Enlaces procesados: 300 de 500\n",
      "Enlaces procesados: 350 de 500\n",
      "Enlaces procesados: 400 de 500\n",
      "Enlaces procesados: 450 de 500\n",
      "Enlaces procesados: 500 de 500\n"
     ]
    },
    {
     "data": {
      "text/html": [
       "<div style='background-color: #b8daba; padding: 10px; border: 1px solid #007723; border-radius: 5px;'><strong>IMBUEBLES DISPONIBLE:</strong> ¡El DataFrame de tamaño (500, 6) df_inmobiliarias de FINCA RAIZ está disponible para su análisis!</div>"
      ],
      "text/plain": [
       "<IPython.core.display.HTML object>"
      ]
     },
     "metadata": {},
     "output_type": "display_data"
    },
    {
     "name": "stderr",
     "output_type": "stream",
     "text": [
      "C:\\Users\\luisG\\GIT\\SCRAPING\\SCRAPERS\\BUILDINGS\\ML\\ML\\internal.py:290: FutureWarning: The default value of regex will change from True to False in a future version. In addition, single character regular expressions will *not* be treated as literal strings when regex=True.\n",
      "  new_df['price'] = new_df['price'].str.replace(\".\", \"\")\n",
      "C:\\Users\\luisG\\GIT\\SCRAPING\\SCRAPERS\\BUILDINGS\\ML\\ML\\internal.py:299: FutureWarning: The default value of regex will change from True to False in a future version. In addition, single character regular expressions will *not* be treated as literal strings when regex=True.\n",
      "  new_df['longitud'] = new_df['longitud'].str.replace(\".\", \",\")\n",
      "C:\\Users\\luisG\\GIT\\SCRAPING\\SCRAPERS\\BUILDINGS\\ML\\ML\\internal.py:300: FutureWarning: The default value of regex will change from True to False in a future version. In addition, single character regular expressions will *not* be treated as literal strings when regex=True.\n",
      "  new_df['latitud'] = new_df['latitud'].str.replace(\".\", \",\")\n"
     ]
    },
    {
     "name": "stdout",
     "output_type": "stream",
     "text": [
      "Realizando scraping en ML_join_SaleINT_FEB2024__Q1_15500...\n",
      "El proceso de scraping ha comenzado a las 21:51 del 09/02/2024\n",
      "Enlaces procesados: 50 de 500\n",
      "Enlaces procesados: 100 de 500\n",
      "Enlaces procesados: 150 de 500\n",
      "Enlaces procesados: 200 de 500\n",
      "Enlaces procesados: 250 de 500\n",
      "Enlaces procesados: 300 de 500\n",
      "Enlaces procesados: 350 de 500\n",
      "Enlaces procesados: 400 de 500\n",
      "Enlaces procesados: 450 de 500\n",
      "Enlaces procesados: 500 de 500\n"
     ]
    },
    {
     "data": {
      "text/html": [
       "<div style='background-color: #b8daba; padding: 10px; border: 1px solid #007723; border-radius: 5px;'><strong>IMBUEBLES DISPONIBLE:</strong> ¡El DataFrame de tamaño (500, 6) df_inmobiliarias de FINCA RAIZ está disponible para su análisis!</div>"
      ],
      "text/plain": [
       "<IPython.core.display.HTML object>"
      ]
     },
     "metadata": {},
     "output_type": "display_data"
    },
    {
     "name": "stderr",
     "output_type": "stream",
     "text": [
      "C:\\Users\\luisG\\GIT\\SCRAPING\\SCRAPERS\\BUILDINGS\\ML\\ML\\internal.py:290: FutureWarning: The default value of regex will change from True to False in a future version. In addition, single character regular expressions will *not* be treated as literal strings when regex=True.\n",
      "  new_df['price'] = new_df['price'].str.replace(\".\", \"\")\n",
      "C:\\Users\\luisG\\GIT\\SCRAPING\\SCRAPERS\\BUILDINGS\\ML\\ML\\internal.py:299: FutureWarning: The default value of regex will change from True to False in a future version. In addition, single character regular expressions will *not* be treated as literal strings when regex=True.\n",
      "  new_df['longitud'] = new_df['longitud'].str.replace(\".\", \",\")\n",
      "C:\\Users\\luisG\\GIT\\SCRAPING\\SCRAPERS\\BUILDINGS\\ML\\ML\\internal.py:300: FutureWarning: The default value of regex will change from True to False in a future version. In addition, single character regular expressions will *not* be treated as literal strings when regex=True.\n",
      "  new_df['latitud'] = new_df['latitud'].str.replace(\".\", \",\")\n"
     ]
    },
    {
     "name": "stdout",
     "output_type": "stream",
     "text": [
      "Realizando scraping en ML_join_SaleINT_FEB2024__Q1_16000...\n",
      "El proceso de scraping ha comenzado a las 22:22 del 09/02/2024\n",
      "Enlaces procesados: 50 de 500\n",
      "Enlaces procesados: 100 de 500\n",
      "Enlaces procesados: 150 de 500\n",
      "Enlaces procesados: 200 de 500\n",
      "Enlaces procesados: 250 de 500\n",
      "Enlaces procesados: 300 de 500\n",
      "Enlaces procesados: 350 de 500\n",
      "Enlaces procesados: 400 de 500\n",
      "Enlaces procesados: 450 de 500\n",
      "Enlaces procesados: 500 de 500\n"
     ]
    },
    {
     "data": {
      "text/html": [
       "<div style='background-color: #b8daba; padding: 10px; border: 1px solid #007723; border-radius: 5px;'><strong>IMBUEBLES DISPONIBLE:</strong> ¡El DataFrame de tamaño (500, 6) df_inmobiliarias de FINCA RAIZ está disponible para su análisis!</div>"
      ],
      "text/plain": [
       "<IPython.core.display.HTML object>"
      ]
     },
     "metadata": {},
     "output_type": "display_data"
    },
    {
     "name": "stderr",
     "output_type": "stream",
     "text": [
      "C:\\Users\\luisG\\GIT\\SCRAPING\\SCRAPERS\\BUILDINGS\\ML\\ML\\internal.py:290: FutureWarning: The default value of regex will change from True to False in a future version. In addition, single character regular expressions will *not* be treated as literal strings when regex=True.\n",
      "  new_df['price'] = new_df['price'].str.replace(\".\", \"\")\n",
      "C:\\Users\\luisG\\GIT\\SCRAPING\\SCRAPERS\\BUILDINGS\\ML\\ML\\internal.py:299: FutureWarning: The default value of regex will change from True to False in a future version. In addition, single character regular expressions will *not* be treated as literal strings when regex=True.\n",
      "  new_df['longitud'] = new_df['longitud'].str.replace(\".\", \",\")\n",
      "C:\\Users\\luisG\\GIT\\SCRAPING\\SCRAPERS\\BUILDINGS\\ML\\ML\\internal.py:300: FutureWarning: The default value of regex will change from True to False in a future version. In addition, single character regular expressions will *not* be treated as literal strings when regex=True.\n",
      "  new_df['latitud'] = new_df['latitud'].str.replace(\".\", \",\")\n"
     ]
    },
    {
     "name": "stdout",
     "output_type": "stream",
     "text": [
      "Realizando scraping en ML_join_SaleINT_FEB2024__Q1_16500...\n",
      "El proceso de scraping ha comenzado a las 22:43 del 09/02/2024\n",
      "Enlaces procesados: 50 de 500\n",
      "Enlaces procesados: 100 de 500\n",
      "Enlaces procesados: 150 de 500\n",
      "Enlaces procesados: 200 de 500\n",
      "Enlaces procesados: 250 de 500\n",
      "Enlaces procesados: 300 de 500\n",
      "Enlaces procesados: 350 de 500\n",
      "Enlaces procesados: 400 de 500\n",
      "Enlaces procesados: 450 de 500\n",
      "Enlaces procesados: 500 de 500\n"
     ]
    },
    {
     "data": {
      "text/html": [
       "<div style='background-color: #b8daba; padding: 10px; border: 1px solid #007723; border-radius: 5px;'><strong>IMBUEBLES DISPONIBLE:</strong> ¡El DataFrame de tamaño (500, 6) df_inmobiliarias de FINCA RAIZ está disponible para su análisis!</div>"
      ],
      "text/plain": [
       "<IPython.core.display.HTML object>"
      ]
     },
     "metadata": {},
     "output_type": "display_data"
    },
    {
     "name": "stderr",
     "output_type": "stream",
     "text": [
      "C:\\Users\\luisG\\GIT\\SCRAPING\\SCRAPERS\\BUILDINGS\\ML\\ML\\internal.py:290: FutureWarning: The default value of regex will change from True to False in a future version. In addition, single character regular expressions will *not* be treated as literal strings when regex=True.\n",
      "  new_df['price'] = new_df['price'].str.replace(\".\", \"\")\n",
      "C:\\Users\\luisG\\GIT\\SCRAPING\\SCRAPERS\\BUILDINGS\\ML\\ML\\internal.py:299: FutureWarning: The default value of regex will change from True to False in a future version. In addition, single character regular expressions will *not* be treated as literal strings when regex=True.\n",
      "  new_df['longitud'] = new_df['longitud'].str.replace(\".\", \",\")\n",
      "C:\\Users\\luisG\\GIT\\SCRAPING\\SCRAPERS\\BUILDINGS\\ML\\ML\\internal.py:300: FutureWarning: The default value of regex will change from True to False in a future version. In addition, single character regular expressions will *not* be treated as literal strings when regex=True.\n",
      "  new_df['latitud'] = new_df['latitud'].str.replace(\".\", \",\")\n"
     ]
    },
    {
     "name": "stdout",
     "output_type": "stream",
     "text": [
      "Realizando scraping en ML_join_SaleINT_FEB2024__Q1_17000...\n",
      "El proceso de scraping ha comenzado a las 23:03 del 09/02/2024\n",
      "Enlaces procesados: 50 de 500\n",
      "Enlaces procesados: 100 de 500\n",
      "Enlaces procesados: 150 de 500\n",
      "Enlaces procesados: 200 de 500\n",
      "Enlaces procesados: 250 de 500\n",
      "Enlaces procesados: 300 de 500\n",
      "Enlaces procesados: 350 de 500\n",
      "Enlaces procesados: 400 de 500\n",
      "Enlaces procesados: 450 de 500\n",
      "Enlaces procesados: 500 de 500\n"
     ]
    },
    {
     "data": {
      "text/html": [
       "<div style='background-color: #b8daba; padding: 10px; border: 1px solid #007723; border-radius: 5px;'><strong>IMBUEBLES DISPONIBLE:</strong> ¡El DataFrame de tamaño (500, 6) df_inmobiliarias de FINCA RAIZ está disponible para su análisis!</div>"
      ],
      "text/plain": [
       "<IPython.core.display.HTML object>"
      ]
     },
     "metadata": {},
     "output_type": "display_data"
    },
    {
     "name": "stderr",
     "output_type": "stream",
     "text": [
      "C:\\Users\\luisG\\GIT\\SCRAPING\\SCRAPERS\\BUILDINGS\\ML\\ML\\internal.py:290: FutureWarning: The default value of regex will change from True to False in a future version. In addition, single character regular expressions will *not* be treated as literal strings when regex=True.\n",
      "  new_df['price'] = new_df['price'].str.replace(\".\", \"\")\n",
      "C:\\Users\\luisG\\GIT\\SCRAPING\\SCRAPERS\\BUILDINGS\\ML\\ML\\internal.py:299: FutureWarning: The default value of regex will change from True to False in a future version. In addition, single character regular expressions will *not* be treated as literal strings when regex=True.\n",
      "  new_df['longitud'] = new_df['longitud'].str.replace(\".\", \",\")\n",
      "C:\\Users\\luisG\\GIT\\SCRAPING\\SCRAPERS\\BUILDINGS\\ML\\ML\\internal.py:300: FutureWarning: The default value of regex will change from True to False in a future version. In addition, single character regular expressions will *not* be treated as literal strings when regex=True.\n",
      "  new_df['latitud'] = new_df['latitud'].str.replace(\".\", \",\")\n"
     ]
    },
    {
     "name": "stdout",
     "output_type": "stream",
     "text": [
      "Realizando scraping en ML_join_SaleINT_FEB2024__Q1_17500...\n",
      "El proceso de scraping ha comenzado a las 23:30 del 09/02/2024\n",
      "Enlaces procesados: 50 de 500\n",
      "Enlaces procesados: 100 de 500\n",
      "Enlaces procesados: 150 de 500\n",
      "Enlaces procesados: 200 de 500\n",
      "Enlaces procesados: 250 de 500\n",
      "Enlaces procesados: 300 de 500\n",
      "Enlaces procesados: 350 de 500\n",
      "Enlaces procesados: 400 de 500\n",
      "Enlaces procesados: 450 de 500\n",
      "Enlaces procesados: 500 de 500\n"
     ]
    },
    {
     "data": {
      "text/html": [
       "<div style='background-color: #b8daba; padding: 10px; border: 1px solid #007723; border-radius: 5px;'><strong>IMBUEBLES DISPONIBLE:</strong> ¡El DataFrame de tamaño (500, 6) df_inmobiliarias de FINCA RAIZ está disponible para su análisis!</div>"
      ],
      "text/plain": [
       "<IPython.core.display.HTML object>"
      ]
     },
     "metadata": {},
     "output_type": "display_data"
    },
    {
     "name": "stderr",
     "output_type": "stream",
     "text": [
      "C:\\Users\\luisG\\GIT\\SCRAPING\\SCRAPERS\\BUILDINGS\\ML\\ML\\internal.py:290: FutureWarning: The default value of regex will change from True to False in a future version. In addition, single character regular expressions will *not* be treated as literal strings when regex=True.\n",
      "  new_df['price'] = new_df['price'].str.replace(\".\", \"\")\n",
      "C:\\Users\\luisG\\GIT\\SCRAPING\\SCRAPERS\\BUILDINGS\\ML\\ML\\internal.py:299: FutureWarning: The default value of regex will change from True to False in a future version. In addition, single character regular expressions will *not* be treated as literal strings when regex=True.\n",
      "  new_df['longitud'] = new_df['longitud'].str.replace(\".\", \",\")\n",
      "C:\\Users\\luisG\\GIT\\SCRAPING\\SCRAPERS\\BUILDINGS\\ML\\ML\\internal.py:300: FutureWarning: The default value of regex will change from True to False in a future version. In addition, single character regular expressions will *not* be treated as literal strings when regex=True.\n",
      "  new_df['latitud'] = new_df['latitud'].str.replace(\".\", \",\")\n"
     ]
    },
    {
     "name": "stdout",
     "output_type": "stream",
     "text": [
      "Realizando scraping en ML_join_SaleINT_FEB2024__Q1_18000...\n",
      "El proceso de scraping ha comenzado a las 23:48 del 09/02/2024\n",
      "Enlaces procesados: 50 de 500\n",
      "Enlaces procesados: 100 de 500\n",
      "Enlaces procesados: 150 de 500\n",
      "Enlaces procesados: 200 de 500\n",
      "Enlaces procesados: 250 de 500\n",
      "Enlaces procesados: 300 de 500\n",
      "Enlaces procesados: 350 de 500\n",
      "Enlaces procesados: 400 de 500\n",
      "Enlaces procesados: 450 de 500\n",
      "Enlaces procesados: 500 de 500\n"
     ]
    },
    {
     "data": {
      "text/html": [
       "<div style='background-color: #b8daba; padding: 10px; border: 1px solid #007723; border-radius: 5px;'><strong>IMBUEBLES DISPONIBLE:</strong> ¡El DataFrame de tamaño (500, 6) df_inmobiliarias de FINCA RAIZ está disponible para su análisis!</div>"
      ],
      "text/plain": [
       "<IPython.core.display.HTML object>"
      ]
     },
     "metadata": {},
     "output_type": "display_data"
    },
    {
     "name": "stderr",
     "output_type": "stream",
     "text": [
      "C:\\Users\\luisG\\GIT\\SCRAPING\\SCRAPERS\\BUILDINGS\\ML\\ML\\internal.py:290: FutureWarning: The default value of regex will change from True to False in a future version. In addition, single character regular expressions will *not* be treated as literal strings when regex=True.\n",
      "  new_df['price'] = new_df['price'].str.replace(\".\", \"\")\n",
      "C:\\Users\\luisG\\GIT\\SCRAPING\\SCRAPERS\\BUILDINGS\\ML\\ML\\internal.py:299: FutureWarning: The default value of regex will change from True to False in a future version. In addition, single character regular expressions will *not* be treated as literal strings when regex=True.\n",
      "  new_df['longitud'] = new_df['longitud'].str.replace(\".\", \",\")\n",
      "C:\\Users\\luisG\\GIT\\SCRAPING\\SCRAPERS\\BUILDINGS\\ML\\ML\\internal.py:300: FutureWarning: The default value of regex will change from True to False in a future version. In addition, single character regular expressions will *not* be treated as literal strings when regex=True.\n",
      "  new_df['latitud'] = new_df['latitud'].str.replace(\".\", \",\")\n"
     ]
    },
    {
     "name": "stdout",
     "output_type": "stream",
     "text": [
      "Realizando scraping en ML_join_SaleINT_FEB2024__Q1_18500...\n",
      "El proceso de scraping ha comenzado a las 00:21 del 10/02/2024\n",
      "Enlaces procesados: 50 de 500\n",
      "Enlaces procesados: 100 de 500\n",
      "Enlaces procesados: 150 de 500\n",
      "Enlaces procesados: 200 de 500\n",
      "Enlaces procesados: 250 de 500\n",
      "Enlaces procesados: 300 de 500\n",
      "Enlaces procesados: 350 de 500\n",
      "Enlaces procesados: 400 de 500\n",
      "Enlaces procesados: 450 de 500\n",
      "Enlaces procesados: 500 de 500\n"
     ]
    },
    {
     "data": {
      "text/html": [
       "<div style='background-color: #b8daba; padding: 10px; border: 1px solid #007723; border-radius: 5px;'><strong>IMBUEBLES DISPONIBLE:</strong> ¡El DataFrame de tamaño (500, 6) df_inmobiliarias de FINCA RAIZ está disponible para su análisis!</div>"
      ],
      "text/plain": [
       "<IPython.core.display.HTML object>"
      ]
     },
     "metadata": {},
     "output_type": "display_data"
    },
    {
     "name": "stderr",
     "output_type": "stream",
     "text": [
      "C:\\Users\\luisG\\GIT\\SCRAPING\\SCRAPERS\\BUILDINGS\\ML\\ML\\internal.py:290: FutureWarning: The default value of regex will change from True to False in a future version. In addition, single character regular expressions will *not* be treated as literal strings when regex=True.\n",
      "  new_df['price'] = new_df['price'].str.replace(\".\", \"\")\n",
      "C:\\Users\\luisG\\GIT\\SCRAPING\\SCRAPERS\\BUILDINGS\\ML\\ML\\internal.py:299: FutureWarning: The default value of regex will change from True to False in a future version. In addition, single character regular expressions will *not* be treated as literal strings when regex=True.\n",
      "  new_df['longitud'] = new_df['longitud'].str.replace(\".\", \",\")\n",
      "C:\\Users\\luisG\\GIT\\SCRAPING\\SCRAPERS\\BUILDINGS\\ML\\ML\\internal.py:300: FutureWarning: The default value of regex will change from True to False in a future version. In addition, single character regular expressions will *not* be treated as literal strings when regex=True.\n",
      "  new_df['latitud'] = new_df['latitud'].str.replace(\".\", \",\")\n"
     ]
    },
    {
     "name": "stdout",
     "output_type": "stream",
     "text": [
      "Realizando scraping en ML_join_SaleINT_FEB2024__Q1_19000...\n",
      "El proceso de scraping ha comenzado a las 00:48 del 10/02/2024\n",
      "Enlaces procesados: 50 de 500\n",
      "Enlaces procesados: 100 de 500\n",
      "Enlaces procesados: 150 de 500\n",
      "Enlaces procesados: 200 de 500\n",
      "Enlaces procesados: 250 de 500\n",
      "Enlaces procesados: 300 de 500\n",
      "Enlaces procesados: 350 de 500\n",
      "Enlaces procesados: 400 de 500\n",
      "Enlaces procesados: 450 de 500\n",
      "Enlaces procesados: 500 de 500\n"
     ]
    },
    {
     "data": {
      "text/html": [
       "<div style='background-color: #b8daba; padding: 10px; border: 1px solid #007723; border-radius: 5px;'><strong>IMBUEBLES DISPONIBLE:</strong> ¡El DataFrame de tamaño (500, 6) df_inmobiliarias de FINCA RAIZ está disponible para su análisis!</div>"
      ],
      "text/plain": [
       "<IPython.core.display.HTML object>"
      ]
     },
     "metadata": {},
     "output_type": "display_data"
    },
    {
     "name": "stderr",
     "output_type": "stream",
     "text": [
      "C:\\Users\\luisG\\GIT\\SCRAPING\\SCRAPERS\\BUILDINGS\\ML\\ML\\internal.py:290: FutureWarning: The default value of regex will change from True to False in a future version. In addition, single character regular expressions will *not* be treated as literal strings when regex=True.\n",
      "  new_df['price'] = new_df['price'].str.replace(\".\", \"\")\n",
      "C:\\Users\\luisG\\GIT\\SCRAPING\\SCRAPERS\\BUILDINGS\\ML\\ML\\internal.py:299: FutureWarning: The default value of regex will change from True to False in a future version. In addition, single character regular expressions will *not* be treated as literal strings when regex=True.\n",
      "  new_df['longitud'] = new_df['longitud'].str.replace(\".\", \",\")\n",
      "C:\\Users\\luisG\\GIT\\SCRAPING\\SCRAPERS\\BUILDINGS\\ML\\ML\\internal.py:300: FutureWarning: The default value of regex will change from True to False in a future version. In addition, single character regular expressions will *not* be treated as literal strings when regex=True.\n",
      "  new_df['latitud'] = new_df['latitud'].str.replace(\".\", \",\")\n"
     ]
    },
    {
     "name": "stdout",
     "output_type": "stream",
     "text": [
      "Realizando scraping en ML_join_SaleINT_FEB2024__Q1_19500...\n",
      "El proceso de scraping ha comenzado a las 01:15 del 10/02/2024\n",
      "Enlaces procesados: 50 de 500\n",
      "Enlaces procesados: 100 de 500\n",
      "Enlaces procesados: 150 de 500\n",
      "Enlaces procesados: 200 de 500\n",
      "Enlaces procesados: 250 de 500\n",
      "Enlaces procesados: 300 de 500\n",
      "Enlaces procesados: 350 de 500\n",
      "Enlaces procesados: 400 de 500\n",
      "Enlaces procesados: 450 de 500\n",
      "Enlaces procesados: 500 de 500\n"
     ]
    },
    {
     "data": {
      "text/html": [
       "<div style='background-color: #b8daba; padding: 10px; border: 1px solid #007723; border-radius: 5px;'><strong>IMBUEBLES DISPONIBLE:</strong> ¡El DataFrame de tamaño (500, 6) df_inmobiliarias de FINCA RAIZ está disponible para su análisis!</div>"
      ],
      "text/plain": [
       "<IPython.core.display.HTML object>"
      ]
     },
     "metadata": {},
     "output_type": "display_data"
    },
    {
     "name": "stderr",
     "output_type": "stream",
     "text": [
      "C:\\Users\\luisG\\GIT\\SCRAPING\\SCRAPERS\\BUILDINGS\\ML\\ML\\internal.py:290: FutureWarning: The default value of regex will change from True to False in a future version. In addition, single character regular expressions will *not* be treated as literal strings when regex=True.\n",
      "  new_df['price'] = new_df['price'].str.replace(\".\", \"\")\n",
      "C:\\Users\\luisG\\GIT\\SCRAPING\\SCRAPERS\\BUILDINGS\\ML\\ML\\internal.py:299: FutureWarning: The default value of regex will change from True to False in a future version. In addition, single character regular expressions will *not* be treated as literal strings when regex=True.\n",
      "  new_df['longitud'] = new_df['longitud'].str.replace(\".\", \",\")\n",
      "C:\\Users\\luisG\\GIT\\SCRAPING\\SCRAPERS\\BUILDINGS\\ML\\ML\\internal.py:300: FutureWarning: The default value of regex will change from True to False in a future version. In addition, single character regular expressions will *not* be treated as literal strings when regex=True.\n",
      "  new_df['latitud'] = new_df['latitud'].str.replace(\".\", \",\")\n"
     ]
    },
    {
     "name": "stdout",
     "output_type": "stream",
     "text": [
      "Realizando scraping en ML_join_SaleINT_FEB2024__Q1_20000...\n",
      "El proceso de scraping ha comenzado a las 01:47 del 10/02/2024\n",
      "Enlaces procesados: 50 de 500\n",
      "Enlaces procesados: 100 de 500\n",
      "Enlaces procesados: 150 de 500\n",
      "Enlaces procesados: 200 de 500\n",
      "Enlaces procesados: 250 de 500\n",
      "Enlaces procesados: 300 de 500\n",
      "Enlaces procesados: 350 de 500\n",
      "Enlaces procesados: 400 de 500\n",
      "Enlaces procesados: 450 de 500\n",
      "Enlaces procesados: 500 de 500\n"
     ]
    },
    {
     "data": {
      "text/html": [
       "<div style='background-color: #b8daba; padding: 10px; border: 1px solid #007723; border-radius: 5px;'><strong>IMBUEBLES DISPONIBLE:</strong> ¡El DataFrame de tamaño (500, 6) df_inmobiliarias de FINCA RAIZ está disponible para su análisis!</div>"
      ],
      "text/plain": [
       "<IPython.core.display.HTML object>"
      ]
     },
     "metadata": {},
     "output_type": "display_data"
    },
    {
     "name": "stderr",
     "output_type": "stream",
     "text": [
      "C:\\Users\\luisG\\GIT\\SCRAPING\\SCRAPERS\\BUILDINGS\\ML\\ML\\internal.py:290: FutureWarning: The default value of regex will change from True to False in a future version. In addition, single character regular expressions will *not* be treated as literal strings when regex=True.\n",
      "  new_df['price'] = new_df['price'].str.replace(\".\", \"\")\n",
      "C:\\Users\\luisG\\GIT\\SCRAPING\\SCRAPERS\\BUILDINGS\\ML\\ML\\internal.py:299: FutureWarning: The default value of regex will change from True to False in a future version. In addition, single character regular expressions will *not* be treated as literal strings when regex=True.\n",
      "  new_df['longitud'] = new_df['longitud'].str.replace(\".\", \",\")\n",
      "C:\\Users\\luisG\\GIT\\SCRAPING\\SCRAPERS\\BUILDINGS\\ML\\ML\\internal.py:300: FutureWarning: The default value of regex will change from True to False in a future version. In addition, single character regular expressions will *not* be treated as literal strings when regex=True.\n",
      "  new_df['latitud'] = new_df['latitud'].str.replace(\".\", \",\")\n"
     ]
    },
    {
     "name": "stdout",
     "output_type": "stream",
     "text": [
      "Realizando scraping en ML_join_SaleINT_FEB2024__Q1_20500...\n",
      "El proceso de scraping ha comenzado a las 02:09 del 10/02/2024\n",
      "Enlaces procesados: 50 de 500\n",
      "Enlaces procesados: 100 de 500\n",
      "Enlaces procesados: 150 de 500\n",
      "Enlaces procesados: 200 de 500\n",
      "Enlaces procesados: 250 de 500\n",
      "Enlaces procesados: 300 de 500\n",
      "Enlaces procesados: 350 de 500\n",
      "Enlaces procesados: 400 de 500\n",
      "Enlaces procesados: 450 de 500\n",
      "Enlaces procesados: 500 de 500\n"
     ]
    },
    {
     "data": {
      "text/html": [
       "<div style='background-color: #b8daba; padding: 10px; border: 1px solid #007723; border-radius: 5px;'><strong>IMBUEBLES DISPONIBLE:</strong> ¡El DataFrame de tamaño (500, 6) df_inmobiliarias de FINCA RAIZ está disponible para su análisis!</div>"
      ],
      "text/plain": [
       "<IPython.core.display.HTML object>"
      ]
     },
     "metadata": {},
     "output_type": "display_data"
    },
    {
     "name": "stderr",
     "output_type": "stream",
     "text": [
      "C:\\Users\\luisG\\GIT\\SCRAPING\\SCRAPERS\\BUILDINGS\\ML\\ML\\internal.py:290: FutureWarning: The default value of regex will change from True to False in a future version. In addition, single character regular expressions will *not* be treated as literal strings when regex=True.\n",
      "  new_df['price'] = new_df['price'].str.replace(\".\", \"\")\n",
      "C:\\Users\\luisG\\GIT\\SCRAPING\\SCRAPERS\\BUILDINGS\\ML\\ML\\internal.py:299: FutureWarning: The default value of regex will change from True to False in a future version. In addition, single character regular expressions will *not* be treated as literal strings when regex=True.\n",
      "  new_df['longitud'] = new_df['longitud'].str.replace(\".\", \",\")\n",
      "C:\\Users\\luisG\\GIT\\SCRAPING\\SCRAPERS\\BUILDINGS\\ML\\ML\\internal.py:300: FutureWarning: The default value of regex will change from True to False in a future version. In addition, single character regular expressions will *not* be treated as literal strings when regex=True.\n",
      "  new_df['latitud'] = new_df['latitud'].str.replace(\".\", \",\")\n"
     ]
    },
    {
     "name": "stdout",
     "output_type": "stream",
     "text": [
      "Realizando scraping en ML_join_SaleINT_FEB2024__Q1_21000...\n",
      "El proceso de scraping ha comenzado a las 02:35 del 10/02/2024\n",
      "Enlaces procesados: 50 de 500\n",
      "Enlaces procesados: 100 de 500\n",
      "Enlaces procesados: 150 de 500\n",
      "Enlaces procesados: 200 de 500\n",
      "Enlaces procesados: 250 de 500\n",
      "Enlaces procesados: 300 de 500\n",
      "Enlaces procesados: 350 de 500\n",
      "Enlaces procesados: 400 de 500\n",
      "Enlaces procesados: 450 de 500\n",
      "Enlaces procesados: 500 de 500\n"
     ]
    },
    {
     "data": {
      "text/html": [
       "<div style='background-color: #b8daba; padding: 10px; border: 1px solid #007723; border-radius: 5px;'><strong>IMBUEBLES DISPONIBLE:</strong> ¡El DataFrame de tamaño (500, 6) df_inmobiliarias de FINCA RAIZ está disponible para su análisis!</div>"
      ],
      "text/plain": [
       "<IPython.core.display.HTML object>"
      ]
     },
     "metadata": {},
     "output_type": "display_data"
    },
    {
     "name": "stderr",
     "output_type": "stream",
     "text": [
      "C:\\Users\\luisG\\GIT\\SCRAPING\\SCRAPERS\\BUILDINGS\\ML\\ML\\internal.py:290: FutureWarning: The default value of regex will change from True to False in a future version. In addition, single character regular expressions will *not* be treated as literal strings when regex=True.\n",
      "  new_df['price'] = new_df['price'].str.replace(\".\", \"\")\n",
      "C:\\Users\\luisG\\GIT\\SCRAPING\\SCRAPERS\\BUILDINGS\\ML\\ML\\internal.py:299: FutureWarning: The default value of regex will change from True to False in a future version. In addition, single character regular expressions will *not* be treated as literal strings when regex=True.\n",
      "  new_df['longitud'] = new_df['longitud'].str.replace(\".\", \",\")\n",
      "C:\\Users\\luisG\\GIT\\SCRAPING\\SCRAPERS\\BUILDINGS\\ML\\ML\\internal.py:300: FutureWarning: The default value of regex will change from True to False in a future version. In addition, single character regular expressions will *not* be treated as literal strings when regex=True.\n",
      "  new_df['latitud'] = new_df['latitud'].str.replace(\".\", \",\")\n"
     ]
    },
    {
     "name": "stdout",
     "output_type": "stream",
     "text": [
      "Realizando scraping en ML_join_SaleINT_FEB2024__Q1_21500...\n",
      "El proceso de scraping ha comenzado a las 02:57 del 10/02/2024\n",
      "Enlaces procesados: 50 de 500\n",
      "Enlaces procesados: 100 de 500\n",
      "Enlaces procesados: 150 de 500\n",
      "Enlaces procesados: 200 de 500\n",
      "Enlaces procesados: 250 de 500\n",
      "Enlaces procesados: 300 de 500\n",
      "Enlaces procesados: 350 de 500\n",
      "Enlaces procesados: 400 de 500\n",
      "Enlaces procesados: 450 de 500\n",
      "Enlaces procesados: 500 de 500\n"
     ]
    },
    {
     "data": {
      "text/html": [
       "<div style='background-color: #b8daba; padding: 10px; border: 1px solid #007723; border-radius: 5px;'><strong>IMBUEBLES DISPONIBLE:</strong> ¡El DataFrame de tamaño (500, 6) df_inmobiliarias de FINCA RAIZ está disponible para su análisis!</div>"
      ],
      "text/plain": [
       "<IPython.core.display.HTML object>"
      ]
     },
     "metadata": {},
     "output_type": "display_data"
    },
    {
     "name": "stderr",
     "output_type": "stream",
     "text": [
      "C:\\Users\\luisG\\GIT\\SCRAPING\\SCRAPERS\\BUILDINGS\\ML\\ML\\internal.py:290: FutureWarning: The default value of regex will change from True to False in a future version. In addition, single character regular expressions will *not* be treated as literal strings when regex=True.\n",
      "  new_df['price'] = new_df['price'].str.replace(\".\", \"\")\n",
      "C:\\Users\\luisG\\GIT\\SCRAPING\\SCRAPERS\\BUILDINGS\\ML\\ML\\internal.py:299: FutureWarning: The default value of regex will change from True to False in a future version. In addition, single character regular expressions will *not* be treated as literal strings when regex=True.\n",
      "  new_df['longitud'] = new_df['longitud'].str.replace(\".\", \",\")\n",
      "C:\\Users\\luisG\\GIT\\SCRAPING\\SCRAPERS\\BUILDINGS\\ML\\ML\\internal.py:300: FutureWarning: The default value of regex will change from True to False in a future version. In addition, single character regular expressions will *not* be treated as literal strings when regex=True.\n",
      "  new_df['latitud'] = new_df['latitud'].str.replace(\".\", \",\")\n"
     ]
    },
    {
     "name": "stdout",
     "output_type": "stream",
     "text": [
      "Realizando scraping en ML_join_SaleINT_FEB2024__Q1_22000...\n",
      "El proceso de scraping ha comenzado a las 03:25 del 10/02/2024\n",
      "Enlaces procesados: 50 de 500\n",
      "Enlaces procesados: 100 de 500\n",
      "Enlaces procesados: 150 de 500\n",
      "Enlaces procesados: 200 de 500\n",
      "Enlaces procesados: 250 de 500\n",
      "Enlaces procesados: 300 de 500\n",
      "Enlaces procesados: 350 de 500\n",
      "Enlaces procesados: 400 de 500\n",
      "Enlaces procesados: 450 de 500\n",
      "Enlaces procesados: 500 de 500\n"
     ]
    },
    {
     "data": {
      "text/html": [
       "<div style='background-color: #b8daba; padding: 10px; border: 1px solid #007723; border-radius: 5px;'><strong>IMBUEBLES DISPONIBLE:</strong> ¡El DataFrame de tamaño (500, 6) df_inmobiliarias de FINCA RAIZ está disponible para su análisis!</div>"
      ],
      "text/plain": [
       "<IPython.core.display.HTML object>"
      ]
     },
     "metadata": {},
     "output_type": "display_data"
    },
    {
     "name": "stderr",
     "output_type": "stream",
     "text": [
      "C:\\Users\\luisG\\GIT\\SCRAPING\\SCRAPERS\\BUILDINGS\\ML\\ML\\internal.py:290: FutureWarning: The default value of regex will change from True to False in a future version. In addition, single character regular expressions will *not* be treated as literal strings when regex=True.\n",
      "  new_df['price'] = new_df['price'].str.replace(\".\", \"\")\n",
      "C:\\Users\\luisG\\GIT\\SCRAPING\\SCRAPERS\\BUILDINGS\\ML\\ML\\internal.py:299: FutureWarning: The default value of regex will change from True to False in a future version. In addition, single character regular expressions will *not* be treated as literal strings when regex=True.\n",
      "  new_df['longitud'] = new_df['longitud'].str.replace(\".\", \",\")\n",
      "C:\\Users\\luisG\\GIT\\SCRAPING\\SCRAPERS\\BUILDINGS\\ML\\ML\\internal.py:300: FutureWarning: The default value of regex will change from True to False in a future version. In addition, single character regular expressions will *not* be treated as literal strings when regex=True.\n",
      "  new_df['latitud'] = new_df['latitud'].str.replace(\".\", \",\")\n"
     ]
    },
    {
     "name": "stdout",
     "output_type": "stream",
     "text": [
      "Realizando scraping en ML_join_SaleINT_FEB2024__Q1_22500...\n",
      "El proceso de scraping ha comenzado a las 03:58 del 10/02/2024\n",
      "Enlaces procesados: 50 de 500\n",
      "Enlaces procesados: 100 de 500\n",
      "Enlaces procesados: 150 de 500\n",
      "Enlaces procesados: 200 de 500\n",
      "Enlaces procesados: 250 de 500\n",
      "Enlaces procesados: 300 de 500\n",
      "Enlaces procesados: 350 de 500\n",
      "Enlaces procesados: 400 de 500\n",
      "Enlaces procesados: 450 de 500\n",
      "Enlaces procesados: 500 de 500\n"
     ]
    },
    {
     "data": {
      "text/html": [
       "<div style='background-color: #b8daba; padding: 10px; border: 1px solid #007723; border-radius: 5px;'><strong>IMBUEBLES DISPONIBLE:</strong> ¡El DataFrame de tamaño (500, 6) df_inmobiliarias de FINCA RAIZ está disponible para su análisis!</div>"
      ],
      "text/plain": [
       "<IPython.core.display.HTML object>"
      ]
     },
     "metadata": {},
     "output_type": "display_data"
    },
    {
     "name": "stderr",
     "output_type": "stream",
     "text": [
      "C:\\Users\\luisG\\GIT\\SCRAPING\\SCRAPERS\\BUILDINGS\\ML\\ML\\internal.py:290: FutureWarning: The default value of regex will change from True to False in a future version. In addition, single character regular expressions will *not* be treated as literal strings when regex=True.\n",
      "  new_df['price'] = new_df['price'].str.replace(\".\", \"\")\n",
      "C:\\Users\\luisG\\GIT\\SCRAPING\\SCRAPERS\\BUILDINGS\\ML\\ML\\internal.py:299: FutureWarning: The default value of regex will change from True to False in a future version. In addition, single character regular expressions will *not* be treated as literal strings when regex=True.\n",
      "  new_df['longitud'] = new_df['longitud'].str.replace(\".\", \",\")\n",
      "C:\\Users\\luisG\\GIT\\SCRAPING\\SCRAPERS\\BUILDINGS\\ML\\ML\\internal.py:300: FutureWarning: The default value of regex will change from True to False in a future version. In addition, single character regular expressions will *not* be treated as literal strings when regex=True.\n",
      "  new_df['latitud'] = new_df['latitud'].str.replace(\".\", \",\")\n"
     ]
    },
    {
     "name": "stdout",
     "output_type": "stream",
     "text": [
      "Realizando scraping en ML_join_SaleINT_FEB2024__Q1_23000...\n",
      "El proceso de scraping ha comenzado a las 04:28 del 10/02/2024\n",
      "Enlaces procesados: 50 de 500\n",
      "Enlaces procesados: 100 de 500\n",
      "Enlaces procesados: 150 de 500\n",
      "Enlaces procesados: 200 de 500\n",
      "Enlaces procesados: 250 de 500\n",
      "Enlaces procesados: 300 de 500\n",
      "Enlaces procesados: 350 de 500\n",
      "Enlaces procesados: 400 de 500\n",
      "Enlaces procesados: 450 de 500\n",
      "Enlaces procesados: 500 de 500\n"
     ]
    },
    {
     "data": {
      "text/html": [
       "<div style='background-color: #b8daba; padding: 10px; border: 1px solid #007723; border-radius: 5px;'><strong>IMBUEBLES DISPONIBLE:</strong> ¡El DataFrame de tamaño (500, 6) df_inmobiliarias de FINCA RAIZ está disponible para su análisis!</div>"
      ],
      "text/plain": [
       "<IPython.core.display.HTML object>"
      ]
     },
     "metadata": {},
     "output_type": "display_data"
    },
    {
     "name": "stderr",
     "output_type": "stream",
     "text": [
      "C:\\Users\\luisG\\GIT\\SCRAPING\\SCRAPERS\\BUILDINGS\\ML\\ML\\internal.py:290: FutureWarning: The default value of regex will change from True to False in a future version. In addition, single character regular expressions will *not* be treated as literal strings when regex=True.\n",
      "  new_df['price'] = new_df['price'].str.replace(\".\", \"\")\n",
      "C:\\Users\\luisG\\GIT\\SCRAPING\\SCRAPERS\\BUILDINGS\\ML\\ML\\internal.py:299: FutureWarning: The default value of regex will change from True to False in a future version. In addition, single character regular expressions will *not* be treated as literal strings when regex=True.\n",
      "  new_df['longitud'] = new_df['longitud'].str.replace(\".\", \",\")\n",
      "C:\\Users\\luisG\\GIT\\SCRAPING\\SCRAPERS\\BUILDINGS\\ML\\ML\\internal.py:300: FutureWarning: The default value of regex will change from True to False in a future version. In addition, single character regular expressions will *not* be treated as literal strings when regex=True.\n",
      "  new_df['latitud'] = new_df['latitud'].str.replace(\".\", \",\")\n"
     ]
    },
    {
     "name": "stdout",
     "output_type": "stream",
     "text": [
      "Realizando scraping en ML_join_SaleINT_FEB2024__Q1_23500...\n",
      "El proceso de scraping ha comenzado a las 04:57 del 10/02/2024\n",
      "Enlaces procesados: 50 de 500\n",
      "Enlaces procesados: 100 de 500\n",
      "Enlaces procesados: 150 de 500\n",
      "Enlaces procesados: 200 de 500\n",
      "Enlaces procesados: 250 de 500\n",
      "Enlaces procesados: 300 de 500\n",
      "Enlaces procesados: 350 de 500\n",
      "Enlaces procesados: 400 de 500\n",
      "Enlaces procesados: 450 de 500\n",
      "Enlaces procesados: 500 de 500\n"
     ]
    },
    {
     "data": {
      "text/html": [
       "<div style='background-color: #b8daba; padding: 10px; border: 1px solid #007723; border-radius: 5px;'><strong>IMBUEBLES DISPONIBLE:</strong> ¡El DataFrame de tamaño (500, 6) df_inmobiliarias de FINCA RAIZ está disponible para su análisis!</div>"
      ],
      "text/plain": [
       "<IPython.core.display.HTML object>"
      ]
     },
     "metadata": {},
     "output_type": "display_data"
    },
    {
     "name": "stderr",
     "output_type": "stream",
     "text": [
      "C:\\Users\\luisG\\GIT\\SCRAPING\\SCRAPERS\\BUILDINGS\\ML\\ML\\internal.py:290: FutureWarning: The default value of regex will change from True to False in a future version. In addition, single character regular expressions will *not* be treated as literal strings when regex=True.\n",
      "  new_df['price'] = new_df['price'].str.replace(\".\", \"\")\n",
      "C:\\Users\\luisG\\GIT\\SCRAPING\\SCRAPERS\\BUILDINGS\\ML\\ML\\internal.py:299: FutureWarning: The default value of regex will change from True to False in a future version. In addition, single character regular expressions will *not* be treated as literal strings when regex=True.\n",
      "  new_df['longitud'] = new_df['longitud'].str.replace(\".\", \",\")\n",
      "C:\\Users\\luisG\\GIT\\SCRAPING\\SCRAPERS\\BUILDINGS\\ML\\ML\\internal.py:300: FutureWarning: The default value of regex will change from True to False in a future version. In addition, single character regular expressions will *not* be treated as literal strings when regex=True.\n",
      "  new_df['latitud'] = new_df['latitud'].str.replace(\".\", \",\")\n"
     ]
    },
    {
     "name": "stdout",
     "output_type": "stream",
     "text": [
      "Realizando scraping en ML_join_SaleINT_FEB2024__Q1_24000...\n",
      "El proceso de scraping ha comenzado a las 05:13 del 10/02/2024\n",
      "Enlaces procesados: 50 de 500\n",
      "Enlaces procesados: 100 de 500\n",
      "Enlaces procesados: 150 de 500\n",
      "Enlaces procesados: 200 de 500\n",
      "Enlaces procesados: 250 de 500\n",
      "Enlaces procesados: 300 de 500\n",
      "Enlaces procesados: 350 de 500\n",
      "Enlaces procesados: 400 de 500\n",
      "Enlaces procesados: 450 de 500\n",
      "Enlaces procesados: 500 de 500\n"
     ]
    },
    {
     "data": {
      "text/html": [
       "<div style='background-color: #b8daba; padding: 10px; border: 1px solid #007723; border-radius: 5px;'><strong>IMBUEBLES DISPONIBLE:</strong> ¡El DataFrame de tamaño (500, 6) df_inmobiliarias de FINCA RAIZ está disponible para su análisis!</div>"
      ],
      "text/plain": [
       "<IPython.core.display.HTML object>"
      ]
     },
     "metadata": {},
     "output_type": "display_data"
    },
    {
     "name": "stderr",
     "output_type": "stream",
     "text": [
      "C:\\Users\\luisG\\GIT\\SCRAPING\\SCRAPERS\\BUILDINGS\\ML\\ML\\internal.py:290: FutureWarning: The default value of regex will change from True to False in a future version. In addition, single character regular expressions will *not* be treated as literal strings when regex=True.\n",
      "  new_df['price'] = new_df['price'].str.replace(\".\", \"\")\n",
      "C:\\Users\\luisG\\GIT\\SCRAPING\\SCRAPERS\\BUILDINGS\\ML\\ML\\internal.py:299: FutureWarning: The default value of regex will change from True to False in a future version. In addition, single character regular expressions will *not* be treated as literal strings when regex=True.\n",
      "  new_df['longitud'] = new_df['longitud'].str.replace(\".\", \",\")\n",
      "C:\\Users\\luisG\\GIT\\SCRAPING\\SCRAPERS\\BUILDINGS\\ML\\ML\\internal.py:300: FutureWarning: The default value of regex will change from True to False in a future version. In addition, single character regular expressions will *not* be treated as literal strings when regex=True.\n",
      "  new_df['latitud'] = new_df['latitud'].str.replace(\".\", \",\")\n"
     ]
    },
    {
     "name": "stdout",
     "output_type": "stream",
     "text": [
      "Realizando scraping en ML_join_SaleINT_FEB2024__Q1_24500...\n",
      "El proceso de scraping ha comenzado a las 05:35 del 10/02/2024\n",
      "Enlaces procesados: 50 de 500\n",
      "Enlaces procesados: 100 de 500\n",
      "Enlaces procesados: 150 de 500\n",
      "Enlaces procesados: 200 de 500\n",
      "Enlaces procesados: 250 de 500\n",
      "Enlaces procesados: 300 de 500\n",
      "Enlaces procesados: 350 de 500\n",
      "Enlaces procesados: 400 de 500\n",
      "Enlaces procesados: 450 de 500\n",
      "Enlaces procesados: 500 de 500\n"
     ]
    },
    {
     "data": {
      "text/html": [
       "<div style='background-color: #b8daba; padding: 10px; border: 1px solid #007723; border-radius: 5px;'><strong>IMBUEBLES DISPONIBLE:</strong> ¡El DataFrame de tamaño (500, 6) df_inmobiliarias de FINCA RAIZ está disponible para su análisis!</div>"
      ],
      "text/plain": [
       "<IPython.core.display.HTML object>"
      ]
     },
     "metadata": {},
     "output_type": "display_data"
    },
    {
     "name": "stderr",
     "output_type": "stream",
     "text": [
      "C:\\Users\\luisG\\GIT\\SCRAPING\\SCRAPERS\\BUILDINGS\\ML\\ML\\internal.py:290: FutureWarning: The default value of regex will change from True to False in a future version. In addition, single character regular expressions will *not* be treated as literal strings when regex=True.\n",
      "  new_df['price'] = new_df['price'].str.replace(\".\", \"\")\n",
      "C:\\Users\\luisG\\GIT\\SCRAPING\\SCRAPERS\\BUILDINGS\\ML\\ML\\internal.py:299: FutureWarning: The default value of regex will change from True to False in a future version. In addition, single character regular expressions will *not* be treated as literal strings when regex=True.\n",
      "  new_df['longitud'] = new_df['longitud'].str.replace(\".\", \",\")\n",
      "C:\\Users\\luisG\\GIT\\SCRAPING\\SCRAPERS\\BUILDINGS\\ML\\ML\\internal.py:300: FutureWarning: The default value of regex will change from True to False in a future version. In addition, single character regular expressions will *not* be treated as literal strings when regex=True.\n",
      "  new_df['latitud'] = new_df['latitud'].str.replace(\".\", \",\")\n"
     ]
    },
    {
     "name": "stdout",
     "output_type": "stream",
     "text": [
      "Realizando scraping en ML_join_SaleINT_FEB2024__Q1_25000...\n",
      "El proceso de scraping ha comenzado a las 06:09 del 10/02/2024\n",
      "Enlaces procesados: 50 de 500\n",
      "Enlaces procesados: 100 de 500\n",
      "Enlaces procesados: 150 de 500\n",
      "Enlaces procesados: 200 de 500\n",
      "Enlaces procesados: 250 de 500\n",
      "Enlaces procesados: 300 de 500\n",
      "Enlaces procesados: 350 de 500\n",
      "Enlaces procesados: 400 de 500\n",
      "Enlaces procesados: 450 de 500\n",
      "Enlaces procesados: 500 de 500\n"
     ]
    },
    {
     "data": {
      "text/html": [
       "<div style='background-color: #b8daba; padding: 10px; border: 1px solid #007723; border-radius: 5px;'><strong>IMBUEBLES DISPONIBLE:</strong> ¡El DataFrame de tamaño (500, 6) df_inmobiliarias de FINCA RAIZ está disponible para su análisis!</div>"
      ],
      "text/plain": [
       "<IPython.core.display.HTML object>"
      ]
     },
     "metadata": {},
     "output_type": "display_data"
    },
    {
     "name": "stderr",
     "output_type": "stream",
     "text": [
      "C:\\Users\\luisG\\GIT\\SCRAPING\\SCRAPERS\\BUILDINGS\\ML\\ML\\internal.py:290: FutureWarning: The default value of regex will change from True to False in a future version. In addition, single character regular expressions will *not* be treated as literal strings when regex=True.\n",
      "  new_df['price'] = new_df['price'].str.replace(\".\", \"\")\n",
      "C:\\Users\\luisG\\GIT\\SCRAPING\\SCRAPERS\\BUILDINGS\\ML\\ML\\internal.py:299: FutureWarning: The default value of regex will change from True to False in a future version. In addition, single character regular expressions will *not* be treated as literal strings when regex=True.\n",
      "  new_df['longitud'] = new_df['longitud'].str.replace(\".\", \",\")\n",
      "C:\\Users\\luisG\\GIT\\SCRAPING\\SCRAPERS\\BUILDINGS\\ML\\ML\\internal.py:300: FutureWarning: The default value of regex will change from True to False in a future version. In addition, single character regular expressions will *not* be treated as literal strings when regex=True.\n",
      "  new_df['latitud'] = new_df['latitud'].str.replace(\".\", \",\")\n"
     ]
    },
    {
     "name": "stdout",
     "output_type": "stream",
     "text": [
      "Realizando scraping en ML_join_SaleINT_FEB2024__Q1_25500...\n",
      "El proceso de scraping ha comenzado a las 06:32 del 10/02/2024\n",
      "Enlaces procesados: 50 de 500\n",
      "Enlaces procesados: 100 de 500\n",
      "Enlaces procesados: 150 de 500\n",
      "Enlaces procesados: 200 de 500\n",
      "Enlaces procesados: 250 de 500\n",
      "Enlaces procesados: 300 de 500\n",
      "Enlaces procesados: 350 de 500\n",
      "Enlaces procesados: 400 de 500\n",
      "Enlaces procesados: 450 de 500\n",
      "Enlaces procesados: 500 de 500\n"
     ]
    },
    {
     "data": {
      "text/html": [
       "<div style='background-color: #b8daba; padding: 10px; border: 1px solid #007723; border-radius: 5px;'><strong>IMBUEBLES DISPONIBLE:</strong> ¡El DataFrame de tamaño (500, 6) df_inmobiliarias de FINCA RAIZ está disponible para su análisis!</div>"
      ],
      "text/plain": [
       "<IPython.core.display.HTML object>"
      ]
     },
     "metadata": {},
     "output_type": "display_data"
    },
    {
     "name": "stderr",
     "output_type": "stream",
     "text": [
      "C:\\Users\\luisG\\GIT\\SCRAPING\\SCRAPERS\\BUILDINGS\\ML\\ML\\internal.py:290: FutureWarning: The default value of regex will change from True to False in a future version. In addition, single character regular expressions will *not* be treated as literal strings when regex=True.\n",
      "  new_df['price'] = new_df['price'].str.replace(\".\", \"\")\n",
      "C:\\Users\\luisG\\GIT\\SCRAPING\\SCRAPERS\\BUILDINGS\\ML\\ML\\internal.py:299: FutureWarning: The default value of regex will change from True to False in a future version. In addition, single character regular expressions will *not* be treated as literal strings when regex=True.\n",
      "  new_df['longitud'] = new_df['longitud'].str.replace(\".\", \",\")\n",
      "C:\\Users\\luisG\\GIT\\SCRAPING\\SCRAPERS\\BUILDINGS\\ML\\ML\\internal.py:300: FutureWarning: The default value of regex will change from True to False in a future version. In addition, single character regular expressions will *not* be treated as literal strings when regex=True.\n",
      "  new_df['latitud'] = new_df['latitud'].str.replace(\".\", \",\")\n"
     ]
    },
    {
     "name": "stdout",
     "output_type": "stream",
     "text": [
      "Realizando scraping en ML_join_SaleINT_FEB2024__Q1_26000...\n",
      "El proceso de scraping ha comenzado a las 06:53 del 10/02/2024\n",
      "Enlaces procesados: 50 de 500\n",
      "Enlaces procesados: 100 de 500\n",
      "Enlaces procesados: 150 de 500\n",
      "Enlaces procesados: 200 de 500\n",
      "Enlaces procesados: 250 de 500\n",
      "Enlaces procesados: 300 de 500\n",
      "Enlaces procesados: 350 de 500\n",
      "Enlaces procesados: 400 de 500\n",
      "Enlaces procesados: 450 de 500\n",
      "Enlaces procesados: 500 de 500\n"
     ]
    },
    {
     "data": {
      "text/html": [
       "<div style='background-color: #b8daba; padding: 10px; border: 1px solid #007723; border-radius: 5px;'><strong>IMBUEBLES DISPONIBLE:</strong> ¡El DataFrame de tamaño (500, 6) df_inmobiliarias de FINCA RAIZ está disponible para su análisis!</div>"
      ],
      "text/plain": [
       "<IPython.core.display.HTML object>"
      ]
     },
     "metadata": {},
     "output_type": "display_data"
    },
    {
     "name": "stderr",
     "output_type": "stream",
     "text": [
      "C:\\Users\\luisG\\GIT\\SCRAPING\\SCRAPERS\\BUILDINGS\\ML\\ML\\internal.py:290: FutureWarning: The default value of regex will change from True to False in a future version. In addition, single character regular expressions will *not* be treated as literal strings when regex=True.\n",
      "  new_df['price'] = new_df['price'].str.replace(\".\", \"\")\n",
      "C:\\Users\\luisG\\GIT\\SCRAPING\\SCRAPERS\\BUILDINGS\\ML\\ML\\internal.py:299: FutureWarning: The default value of regex will change from True to False in a future version. In addition, single character regular expressions will *not* be treated as literal strings when regex=True.\n",
      "  new_df['longitud'] = new_df['longitud'].str.replace(\".\", \",\")\n",
      "C:\\Users\\luisG\\GIT\\SCRAPING\\SCRAPERS\\BUILDINGS\\ML\\ML\\internal.py:300: FutureWarning: The default value of regex will change from True to False in a future version. In addition, single character regular expressions will *not* be treated as literal strings when regex=True.\n",
      "  new_df['latitud'] = new_df['latitud'].str.replace(\".\", \",\")\n"
     ]
    },
    {
     "name": "stdout",
     "output_type": "stream",
     "text": [
      "Realizando scraping en ML_join_SaleINT_FEB2024__Q1_26500...\n",
      "El proceso de scraping ha comenzado a las 07:22 del 10/02/2024\n",
      "Enlaces procesados: 50 de 500\n",
      "Enlaces procesados: 100 de 500\n",
      "Enlaces procesados: 150 de 500\n",
      "Enlaces procesados: 200 de 500\n",
      "Enlaces procesados: 250 de 500\n",
      "Enlaces procesados: 300 de 500\n",
      "Enlaces procesados: 350 de 500\n",
      "Enlaces procesados: 400 de 500\n",
      "Enlaces procesados: 450 de 500\n",
      "Enlaces procesados: 500 de 500\n"
     ]
    },
    {
     "data": {
      "text/html": [
       "<div style='background-color: #b8daba; padding: 10px; border: 1px solid #007723; border-radius: 5px;'><strong>IMBUEBLES DISPONIBLE:</strong> ¡El DataFrame de tamaño (500, 6) df_inmobiliarias de FINCA RAIZ está disponible para su análisis!</div>"
      ],
      "text/plain": [
       "<IPython.core.display.HTML object>"
      ]
     },
     "metadata": {},
     "output_type": "display_data"
    },
    {
     "name": "stderr",
     "output_type": "stream",
     "text": [
      "C:\\Users\\luisG\\GIT\\SCRAPING\\SCRAPERS\\BUILDINGS\\ML\\ML\\internal.py:290: FutureWarning: The default value of regex will change from True to False in a future version. In addition, single character regular expressions will *not* be treated as literal strings when regex=True.\n",
      "  new_df['price'] = new_df['price'].str.replace(\".\", \"\")\n",
      "C:\\Users\\luisG\\GIT\\SCRAPING\\SCRAPERS\\BUILDINGS\\ML\\ML\\internal.py:299: FutureWarning: The default value of regex will change from True to False in a future version. In addition, single character regular expressions will *not* be treated as literal strings when regex=True.\n",
      "  new_df['longitud'] = new_df['longitud'].str.replace(\".\", \",\")\n",
      "C:\\Users\\luisG\\GIT\\SCRAPING\\SCRAPERS\\BUILDINGS\\ML\\ML\\internal.py:300: FutureWarning: The default value of regex will change from True to False in a future version. In addition, single character regular expressions will *not* be treated as literal strings when regex=True.\n",
      "  new_df['latitud'] = new_df['latitud'].str.replace(\".\", \",\")\n"
     ]
    },
    {
     "name": "stdout",
     "output_type": "stream",
     "text": [
      "Realizando scraping en ML_join_SaleINT_FEB2024__Q1_27000...\n",
      "El proceso de scraping ha comenzado a las 07:42 del 10/02/2024\n",
      "Enlaces procesados: 50 de 500\n",
      "Enlaces procesados: 100 de 500\n",
      "Enlaces procesados: 150 de 500\n",
      "Enlaces procesados: 200 de 500\n",
      "Enlaces procesados: 250 de 500\n",
      "Enlaces procesados: 300 de 500\n",
      "Enlaces procesados: 350 de 500\n",
      "Enlaces procesados: 400 de 500\n",
      "Enlaces procesados: 450 de 500\n",
      "Enlaces procesados: 500 de 500\n"
     ]
    },
    {
     "data": {
      "text/html": [
       "<div style='background-color: #b8daba; padding: 10px; border: 1px solid #007723; border-radius: 5px;'><strong>IMBUEBLES DISPONIBLE:</strong> ¡El DataFrame de tamaño (500, 6) df_inmobiliarias de FINCA RAIZ está disponible para su análisis!</div>"
      ],
      "text/plain": [
       "<IPython.core.display.HTML object>"
      ]
     },
     "metadata": {},
     "output_type": "display_data"
    },
    {
     "name": "stderr",
     "output_type": "stream",
     "text": [
      "C:\\Users\\luisG\\GIT\\SCRAPING\\SCRAPERS\\BUILDINGS\\ML\\ML\\internal.py:290: FutureWarning: The default value of regex will change from True to False in a future version. In addition, single character regular expressions will *not* be treated as literal strings when regex=True.\n",
      "  new_df['price'] = new_df['price'].str.replace(\".\", \"\")\n",
      "C:\\Users\\luisG\\GIT\\SCRAPING\\SCRAPERS\\BUILDINGS\\ML\\ML\\internal.py:299: FutureWarning: The default value of regex will change from True to False in a future version. In addition, single character regular expressions will *not* be treated as literal strings when regex=True.\n",
      "  new_df['longitud'] = new_df['longitud'].str.replace(\".\", \",\")\n",
      "C:\\Users\\luisG\\GIT\\SCRAPING\\SCRAPERS\\BUILDINGS\\ML\\ML\\internal.py:300: FutureWarning: The default value of regex will change from True to False in a future version. In addition, single character regular expressions will *not* be treated as literal strings when regex=True.\n",
      "  new_df['latitud'] = new_df['latitud'].str.replace(\".\", \",\")\n"
     ]
    },
    {
     "name": "stdout",
     "output_type": "stream",
     "text": [
      "Realizando scraping en ML_join_SaleINT_FEB2024__Q1_27500...\n",
      "El proceso de scraping ha comenzado a las 08:04 del 10/02/2024\n",
      "Enlaces procesados: 50 de 500\n",
      "Enlaces procesados: 100 de 500\n",
      "Enlaces procesados: 150 de 500\n",
      "Enlaces procesados: 200 de 500\n",
      "Enlaces procesados: 250 de 500\n",
      "Enlaces procesados: 300 de 500\n",
      "Enlaces procesados: 350 de 500\n",
      "Enlaces procesados: 400 de 500\n",
      "Enlaces procesados: 450 de 500\n",
      "Enlaces procesados: 500 de 500\n"
     ]
    },
    {
     "data": {
      "text/html": [
       "<div style='background-color: #b8daba; padding: 10px; border: 1px solid #007723; border-radius: 5px;'><strong>IMBUEBLES DISPONIBLE:</strong> ¡El DataFrame de tamaño (500, 6) df_inmobiliarias de FINCA RAIZ está disponible para su análisis!</div>"
      ],
      "text/plain": [
       "<IPython.core.display.HTML object>"
      ]
     },
     "metadata": {},
     "output_type": "display_data"
    },
    {
     "name": "stderr",
     "output_type": "stream",
     "text": [
      "C:\\Users\\luisG\\GIT\\SCRAPING\\SCRAPERS\\BUILDINGS\\ML\\ML\\internal.py:290: FutureWarning: The default value of regex will change from True to False in a future version. In addition, single character regular expressions will *not* be treated as literal strings when regex=True.\n",
      "  new_df['price'] = new_df['price'].str.replace(\".\", \"\")\n",
      "C:\\Users\\luisG\\GIT\\SCRAPING\\SCRAPERS\\BUILDINGS\\ML\\ML\\internal.py:299: FutureWarning: The default value of regex will change from True to False in a future version. In addition, single character regular expressions will *not* be treated as literal strings when regex=True.\n",
      "  new_df['longitud'] = new_df['longitud'].str.replace(\".\", \",\")\n",
      "C:\\Users\\luisG\\GIT\\SCRAPING\\SCRAPERS\\BUILDINGS\\ML\\ML\\internal.py:300: FutureWarning: The default value of regex will change from True to False in a future version. In addition, single character regular expressions will *not* be treated as literal strings when regex=True.\n",
      "  new_df['latitud'] = new_df['latitud'].str.replace(\".\", \",\")\n"
     ]
    },
    {
     "name": "stdout",
     "output_type": "stream",
     "text": [
      "Realizando scraping en ML_join_SaleINT_FEB2024__Q1_28000...\n",
      "El proceso de scraping ha comenzado a las 08:30 del 10/02/2024\n",
      "Enlaces procesados: 50 de 459\n",
      "Enlaces procesados: 100 de 459\n",
      "Enlaces procesados: 150 de 459\n",
      "Enlaces procesados: 200 de 459\n",
      "Enlaces procesados: 250 de 459\n",
      "Enlaces procesados: 300 de 459\n",
      "Enlaces procesados: 350 de 459\n",
      "Enlaces procesados: 400 de 459\n",
      "Se produjo un error al cargar el enlace: https://casa.mercadolibre.com.co/MCO-1384486711-casa-lote-en-obra-negra-o-terminada-_JM#position=8&amp.search_layout=grid&amp.type=item&amp.tracking_id=7523846b-46c5-48dd-810d-57feb0d821d4\n",
      "Excepción: Message: disconnected: not connected to DevTools\n",
      "  (failed to check if window was closed: disconnected: not connected to DevTools)\n",
      "  (Session info: headless chrome=120.0.6099.217)\n",
      "Stacktrace:\n",
      "\tGetHandleVerifier [0x00007FF7F2B482B2+55298]\n",
      "\t(No symbol) [0x00007FF7F2AB5E02]\n",
      "\t(No symbol) [0x00007FF7F29705AB]\n",
      "\t(No symbol) [0x00007FF7F295E19B]\n",
      "\t(No symbol) [0x00007FF7F295DDF0]\n",
      "\t(No symbol) [0x00007FF7F29724A1]\n",
      "\t(No symbol) [0x00007FF7F29EA18F]\n",
      "\t(No symbol) [0x00007FF7F29D1E83]\n",
      "\t(No symbol) [0x00007FF7F29A670A]\n",
      "\t(No symbol) [0x00007FF7F29A7964]\n",
      "\tGetHandleVerifier [0x00007FF7F2EC0AAB+3694587]\n",
      "\tGetHandleVerifier [0x00007FF7F2F1728E+4048862]\n",
      "\tGetHandleVerifier [0x00007FF7F2F0F173+4015811]\n",
      "\tGetHandleVerifier [0x00007FF7F2BE47D6+695590]\n",
      "\t(No symbol) [0x00007FF7F2AC0CE8]\n",
      "\t(No symbol) [0x00007FF7F2ABCF34]\n",
      "\t(No symbol) [0x00007FF7F2ABD062]\n",
      "\t(No symbol) [0x00007FF7F2AAD3A3]\n",
      "\tBaseThreadInitThunk [0x00007FFD6035257D+29]\n",
      "\tRtlUserThreadStart [0x00007FFD618EAA58+40]\n",
      "\n",
      "Reiniciando el driver y continuando con el próximo enlace...\n",
      "Enlaces procesados: 450 de 459\n"
     ]
    },
    {
     "data": {
      "text/html": [
       "<div style='background-color: #b8daba; padding: 10px; border: 1px solid #007723; border-radius: 5px;'><strong>IMBUEBLES DISPONIBLE:</strong> ¡El DataFrame de tamaño (459, 6) df_inmobiliarias de FINCA RAIZ está disponible para su análisis!</div>"
      ],
      "text/plain": [
       "<IPython.core.display.HTML object>"
      ]
     },
     "metadata": {},
     "output_type": "display_data"
    },
    {
     "name": "stderr",
     "output_type": "stream",
     "text": [
      "C:\\Users\\luisG\\GIT\\SCRAPING\\SCRAPERS\\BUILDINGS\\ML\\ML\\internal.py:290: FutureWarning: The default value of regex will change from True to False in a future version. In addition, single character regular expressions will *not* be treated as literal strings when regex=True.\n",
      "  new_df['price'] = new_df['price'].str.replace(\".\", \"\")\n",
      "C:\\Users\\luisG\\GIT\\SCRAPING\\SCRAPERS\\BUILDINGS\\ML\\ML\\internal.py:299: FutureWarning: The default value of regex will change from True to False in a future version. In addition, single character regular expressions will *not* be treated as literal strings when regex=True.\n",
      "  new_df['longitud'] = new_df['longitud'].str.replace(\".\", \",\")\n",
      "C:\\Users\\luisG\\GIT\\SCRAPING\\SCRAPERS\\BUILDINGS\\ML\\ML\\internal.py:300: FutureWarning: The default value of regex will change from True to False in a future version. In addition, single character regular expressions will *not* be treated as literal strings when regex=True.\n",
      "  new_df['latitud'] = new_df['latitud'].str.replace(\".\", \",\")\n"
     ]
    },
    {
     "name": "stdout",
     "output_type": "stream",
     "text": [
      "El proceso de scraping ha terminado a las 11:56 del 10/02/2024\n"
     ]
    }
   ],
   "source": [
    "inmueble_slow_resultados = []    \n",
    "\n",
    "try:\n",
    "    start_time = datetime.now()\n",
    "    print(f\"El proceso de scraping ha comenzado a las {start_time.strftime('%H:%M')} del {start_time.strftime('%d/%m/%Y')}\")\n",
    "\n",
    "    for df_key, df_value in dfs.items():\n",
    "        print(f\"Realizando scraping en {df_key}...\")\n",
    "        scraped_data = internal(df_value)\n",
    "        inmueble_slow_resultados.extend(scraped_data) \n",
    "        processed_data = rd(scraped_data)\n",
    "        sd(processed_data, f'{result_dir}/{df_key}')\n",
    "        dtf(ruta_bat)\n",
    "\n",
    "    #Fin del scraping: \n",
    "    end_time = datetime.now()\n",
    "    print(f\"El proceso de scraping ha terminado a las {end_time.strftime('%H:%M')} del {end_time.strftime('%d/%m/%Y')}\")\n",
    "    \n",
    "except Exception as e:\n",
    "    print(f\"Se produjo un error en el scraping: {e}\")\n"
   ]
  }
 ],
 "metadata": {
  "kernelspec": {
   "display_name": "Python 3 (ipykernel)",
   "language": "python",
   "name": "python3"
  },
  "language_info": {
   "codemirror_mode": {
    "name": "ipython",
    "version": 3
   },
   "file_extension": ".py",
   "mimetype": "text/x-python",
   "name": "python",
   "nbconvert_exporter": "python",
   "pygments_lexer": "ipython3",
   "version": "3.11.3"
  }
 },
 "nbformat": 4,
 "nbformat_minor": 2
}
