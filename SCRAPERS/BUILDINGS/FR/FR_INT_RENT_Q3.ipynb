{
 "cells": [
  {
   "cell_type": "markdown",
   "metadata": {},
   "source": [
    "# Libraries and modules\n"
   ]
  },
  {
   "cell_type": "code",
   "execution_count": 1,
   "metadata": {},
   "outputs": [],
   "source": [
    "import pandas as pd \n",
    "from datetime import datetime\n",
    "from FR.internal import selectdfQ, regexInternalData as rd, scrapedInternalPage\n",
    "from FR.tools import savedata as sd, deltempfiles as dtf\n",
    "from FR.directories import master_directory, directory_bat_file "
   ]
  },
  {
   "cell_type": "markdown",
   "metadata": {},
   "source": [
    "# __ENVIRONMENT__"
   ]
  },
  {
   "cell_type": "code",
   "execution_count": 2,
   "metadata": {},
   "outputs": [],
   "source": [
    "# Variables \n",
    "month = 'FEB'       # Update each month\n",
    "year = '2024'       # Update each month\n",
    "\n",
    "# Constants  \n",
    "OPERATION = 'Rental'\n",
    "WEB = 'FR'\n",
    "\n",
    "# Master directory\n",
    "master_dir = master_directory()\n",
    "master_dir = f'{master_dir}/{WEB}'\n",
    "\n",
    "# IMPORT\n",
    "# Directories to import files \n",
    "moni_dir_imp = f'{master_dir}/FRONTPAGE/MONITORING/{year}/{month}'\n",
    "\n",
    "# import files \n",
    "###############################################################################################################\n",
    "fl_master_imp = f'{WEB}_{month}{year}_{OPERATION}_Front.csv'\n",
    "\n",
    "inputfile = f'{moni_dir_imp}/{fl_master_imp}' \n",
    "\n",
    "# EXPORT\n",
    "# Directories to export files \n",
    "result_dir = f'{master_dir}/INTERNAL/JOIN'\n",
    "\n",
    "# Export files \n",
    "###############################################################################################################\n",
    "# This files is going to be joined for create the master file, which contains all the data for the fron page\n",
    "fl_pre = f'{WEB}_join_{OPERATION}INT_{month}{year}_'\n",
    "\n",
    "\n",
    "# Ruta al archivo .bat\n",
    "ruta_bat = directory_bat_file()\n",
    "ruta_bat = f'{ruta_bat}/deltemporal_exect.bat'"
   ]
  },
  {
   "cell_type": "markdown",
   "metadata": {},
   "source": [
    "# Read frontpage df "
   ]
  },
  {
   "cell_type": "code",
   "execution_count": 3,
   "metadata": {},
   "outputs": [],
   "source": [
    "df = pd.read_csv(f'{inputfile}', sep = ';', encoding = 'utf-16')"
   ]
  },
  {
   "cell_type": "markdown",
   "metadata": {},
   "source": [
    "## Choosing the df \n"
   ]
  },
  {
   "cell_type": "code",
   "execution_count": 4,
   "metadata": {},
   "outputs": [
    {
     "name": "stdout",
     "output_type": "stream",
     "text": [
      "Usted seleccionó dfQ3 con: 9554 obs\n"
     ]
    }
   ],
   "source": [
    "dfQ3, _ = selectdfQ(df, 3, 'Arriendo')"
   ]
  },
  {
   "cell_type": "markdown",
   "metadata": {},
   "source": [
    "# Split data "
   ]
  },
  {
   "cell_type": "code",
   "execution_count": 5,
   "metadata": {},
   "outputs": [
    {
     "name": "stdout",
     "output_type": "stream",
     "text": [
      "Se crearon 20 DataFrames para df_inmobiliaria:\n"
     ]
    }
   ],
   "source": [
    "# Split principal df - Q1\n",
    "# This is for close the driver each 500 urls or internal pages processes\n",
    "#############################################################################################################\n",
    "num_dfs = len(dfQ3) // 500 + (1 if len(dfQ3) % 500 != 0 else 0)\n",
    "dfs = {f'{fl_pre}_Q3{i}': dfQ3.iloc[i:i+500] for i in range(0, len(dfQ3), 500)}\n",
    "print(f'You created {num_dfs} DataFrames from the principal df')"
   ]
  },
  {
   "cell_type": "markdown",
   "metadata": {},
   "source": [
    "# __Scraping__"
   ]
  },
  {
   "cell_type": "code",
   "execution_count": null,
   "metadata": {},
   "outputs": [],
   "source": [
    "# Initialize the list for save the data\n",
    "inmueble_slow_resultados = []    \n",
    "\n",
    "try:\n",
    "    start_time = datetime.now()\n",
    "    print(f\"The process started at {start_time.strftime('%H:%M')} of {start_time.strftime('%d/%m/%Y')}\")\n",
    "\n",
    "    # Itearte for each df and scraped the data of each internal page\n",
    "    for df_key, df_value in dfs.items():\n",
    "        print(f\"Realizando scraping en {df_key}...\")\n",
    "        scraped_data = scrapedInternalPage(df_value)\n",
    "        inmueble_slow_resultados.extend(scraped_data) \n",
    "        \n",
    "        # Use the function regex for have the variables \n",
    "        processed_data = rd(scraped_data)\n",
    "        sd(processed_data, f'{result_dir}/{df_key}')\n",
    "        \n",
    "        # Delete the temporal files \n",
    "        dtf(ruta_bat)\n",
    "\n",
    "    end_time = datetime.now()\n",
    "    print(f\"The process ended at {end_time.strftime('%H:%M')} of {end_time.strftime('%d/%m/%Y')}\")\n",
    "    \n",
    "except Exception as e:\n",
    "    print(f\"Error: {e}\")\n"
   ]
  }
 ],
 "metadata": {
  "kernelspec": {
   "display_name": "Python 3 (ipykernel)",
   "language": "python",
   "name": "python3"
  },
  "language_info": {
   "codemirror_mode": {
    "name": "ipython",
    "version": 3
   },
   "file_extension": ".py",
   "mimetype": "text/x-python",
   "name": "python",
   "nbconvert_exporter": "python",
   "pygments_lexer": "ipython3",
   "version": "3.11.3"
  }
 },
 "nbformat": 4,
 "nbformat_minor": 2
}
